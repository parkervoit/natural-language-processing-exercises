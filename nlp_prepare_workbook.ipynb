{
 "cells": [
  {
   "cell_type": "code",
   "execution_count": 1,
   "metadata": {},
   "outputs": [],
   "source": [
    "import unicodedata\n",
    "import re\n",
    "import json\n",
    "from requests import get\n",
    "import nltk\n",
    "from nltk.tokenize.toktok import ToktokTokenizer\n",
    "from nltk.corpus import stopwords\n",
    "from requests import get\n",
    "from bs4 import BeautifulSoup\n",
    "import os\n",
    "import pandas as pd\n",
    "import acquire"
   ]
  },
  {
   "cell_type": "markdown",
   "metadata": {},
   "source": [
    "1. Define a function named basic_clean. It should take in a string and apply some basic text cleaning to it:"
   ]
  },
  {
   "cell_type": "code",
   "execution_count": 2,
   "metadata": {},
   "outputs": [
    {
     "name": "stderr",
     "output_type": "stream",
     "text": [
      "/Users/parkervoit/Desktop/codeup-data-science/natural-language-processing-exercises/acquire.py:92: GuessedAtParserWarning: No parser was explicitly specified, so I'm using the best available HTML parser for this system (\"lxml\"). This usually isn't a problem, but if you run this code on another system, or in a different virtual environment, it may use a different parser and behave differently.\n",
      "\n",
      "The code that caused this warning is on line 92 of the file /Users/parkervoit/Desktop/codeup-data-science/natural-language-processing-exercises/acquire.py. To get rid of this warning, pass the additional argument 'features=\"lxml\"' to the BeautifulSoup constructor.\n",
      "\n",
      "  soup = BeautifulSoup(response.text)\n"
     ]
    }
   ],
   "source": [
    "categories = [\"business\", \"science\", \"technology\", \"entertainment\"]\n",
    "\n",
    "news_df = acquire.get_all_news_articles(categories)"
   ]
  },
  {
   "cell_type": "code",
   "execution_count": 3,
   "metadata": {},
   "outputs": [
    {
     "data": {
      "text/html": [
       "<div>\n",
       "<style scoped>\n",
       "    .dataframe tbody tr th:only-of-type {\n",
       "        vertical-align: middle;\n",
       "    }\n",
       "\n",
       "    .dataframe tbody tr th {\n",
       "        vertical-align: top;\n",
       "    }\n",
       "\n",
       "    .dataframe thead th {\n",
       "        text-align: right;\n",
       "    }\n",
       "</style>\n",
       "<table border=\"1\" class=\"dataframe\">\n",
       "  <thead>\n",
       "    <tr style=\"text-align: right;\">\n",
       "      <th></th>\n",
       "      <th>title</th>\n",
       "      <th>content</th>\n",
       "      <th>category</th>\n",
       "    </tr>\n",
       "  </thead>\n",
       "  <tbody>\n",
       "    <tr>\n",
       "      <th>0</th>\n",
       "      <td>Reliance Industries vaccinates 98% of workers,...</td>\n",
       "      <td>Reliance Industries has said in a statement th...</td>\n",
       "      <td>business</td>\n",
       "    </tr>\n",
       "    <tr>\n",
       "      <th>1</th>\n",
       "      <td>Musk criticises Apple's 'walled garden', cobal...</td>\n",
       "      <td>Tesla's billionaire CEO Elon Musk criticised A...</td>\n",
       "      <td>business</td>\n",
       "    </tr>\n",
       "    <tr>\n",
       "      <th>2</th>\n",
       "      <td>I will most likely not be on future earnings c...</td>\n",
       "      <td>Tesla CEO and the world's second-richest perso...</td>\n",
       "      <td>business</td>\n",
       "    </tr>\n",
       "    <tr>\n",
       "      <th>3</th>\n",
       "      <td>Speculation around our plans for crypto not tr...</td>\n",
       "      <td>Amazon on Monday denied speculations that it w...</td>\n",
       "      <td>business</td>\n",
       "    </tr>\n",
       "    <tr>\n",
       "      <th>4</th>\n",
       "      <td>Govt may lower import duty on EVs if Tesla man...</td>\n",
       "      <td>The government is open to consider reducing im...</td>\n",
       "      <td>business</td>\n",
       "    </tr>\n",
       "    <tr>\n",
       "      <th>...</th>\n",
       "      <td>...</td>\n",
       "      <td>...</td>\n",
       "      <td>...</td>\n",
       "    </tr>\n",
       "    <tr>\n",
       "      <th>94</th>\n",
       "      <td>A Northeast actor should be cast if biopic is ...</td>\n",
       "      <td>Actor Adil Hussain feels that Bollywood should...</td>\n",
       "      <td>entertainment</td>\n",
       "    </tr>\n",
       "    <tr>\n",
       "      <th>95</th>\n",
       "      <td>Got it purely on merit, it's incredible: Kubbr...</td>\n",
       "      <td>Actress Kubbra Sait, who celebrates her birthd...</td>\n",
       "      <td>entertainment</td>\n",
       "    </tr>\n",
       "    <tr>\n",
       "      <th>96</th>\n",
       "      <td>MS Dhoni is so down to earth, I'm a fan now: F...</td>\n",
       "      <td>Filmmaker Farah Khan praised former Indian cap...</td>\n",
       "      <td>entertainment</td>\n",
       "    </tr>\n",
       "    <tr>\n",
       "      <th>97</th>\n",
       "      <td>Among all my co-stars, I am closest to Tiger S...</td>\n",
       "      <td>Tara Sutaria, who made her Bollywood debut wit...</td>\n",
       "      <td>entertainment</td>\n",
       "    </tr>\n",
       "    <tr>\n",
       "      <th>98</th>\n",
       "      <td>I love Shah Rukh Khan, would love to work with...</td>\n",
       "      <td>Actor Arya, whose Tamil-language sports action...</td>\n",
       "      <td>entertainment</td>\n",
       "    </tr>\n",
       "  </tbody>\n",
       "</table>\n",
       "<p>99 rows × 3 columns</p>\n",
       "</div>"
      ],
      "text/plain": [
       "                                                title  \\\n",
       "0   Reliance Industries vaccinates 98% of workers,...   \n",
       "1   Musk criticises Apple's 'walled garden', cobal...   \n",
       "2   I will most likely not be on future earnings c...   \n",
       "3   Speculation around our plans for crypto not tr...   \n",
       "4   Govt may lower import duty on EVs if Tesla man...   \n",
       "..                                                ...   \n",
       "94  A Northeast actor should be cast if biopic is ...   \n",
       "95  Got it purely on merit, it's incredible: Kubbr...   \n",
       "96  MS Dhoni is so down to earth, I'm a fan now: F...   \n",
       "97  Among all my co-stars, I am closest to Tiger S...   \n",
       "98  I love Shah Rukh Khan, would love to work with...   \n",
       "\n",
       "                                              content       category  \n",
       "0   Reliance Industries has said in a statement th...       business  \n",
       "1   Tesla's billionaire CEO Elon Musk criticised A...       business  \n",
       "2   Tesla CEO and the world's second-richest perso...       business  \n",
       "3   Amazon on Monday denied speculations that it w...       business  \n",
       "4   The government is open to consider reducing im...       business  \n",
       "..                                                ...            ...  \n",
       "94  Actor Adil Hussain feels that Bollywood should...  entertainment  \n",
       "95  Actress Kubbra Sait, who celebrates her birthd...  entertainment  \n",
       "96  Filmmaker Farah Khan praised former Indian cap...  entertainment  \n",
       "97  Tara Sutaria, who made her Bollywood debut wit...  entertainment  \n",
       "98  Actor Arya, whose Tamil-language sports action...  entertainment  \n",
       "\n",
       "[99 rows x 3 columns]"
      ]
     },
     "execution_count": 3,
     "metadata": {},
     "output_type": "execute_result"
    }
   ],
   "source": [
    "news_df"
   ]
  },
  {
   "cell_type": "code",
   "execution_count": 4,
   "metadata": {},
   "outputs": [
    {
     "data": {
      "text/plain": [
       "'reliance industries has said in a statement that over 98 of its workers have received at least one dose of covid19 vaccine so far the billionaire mukesh ambaniled conglomerate had over 236 lakh employees of march 31 besides reliance hindustan unilever has also given at least one shot to 90 of employees while infosys inoculated 59 employees and tcs 70'"
      ]
     },
     "execution_count": 4,
     "metadata": {},
     "output_type": "execute_result"
    }
   ],
   "source": [
    "unicodedata.normalize('NFKD', news_df.content[0])\\\n",
    "           .encode('ascii', 'ignore')\\\n",
    "           .decode('utf-8', 'ignore')\n",
    "re.sub(r'[^\\w\\s]', '', news_df.content[0]).lower()"
   ]
  },
  {
   "cell_type": "code",
   "execution_count": 59,
   "metadata": {},
   "outputs": [],
   "source": [
    "def basic_clean(string):\n",
    "    string = unicodedata.normalize('NFKD', string)\\\n",
    "                        .encode('ascii', 'ignore')\\\n",
    "                        .decode('utf-8', 'ignore')\n",
    "    string = re.sub(r'[^\\w\\s]', '', string).lower()\n",
    "    return string"
   ]
  },
  {
   "cell_type": "markdown",
   "metadata": {},
   "source": [
    "2. Define a function named tokenize. It should take in a string and tokenize all the words in the string."
   ]
  },
  {
   "cell_type": "code",
   "execution_count": 6,
   "metadata": {},
   "outputs": [],
   "source": [
    "tokenizer = nltk.tokenize.ToktokTokenizer()"
   ]
  },
  {
   "cell_type": "code",
   "execution_count": 7,
   "metadata": {},
   "outputs": [
    {
     "data": {
      "text/plain": [
       "'Reliance Industries has said in a statement that over 98 % of its workers have received at least one dose of COVID-19 vaccine so far. The billionaire Mukesh Ambani-led conglomerate had over 2.36 lakh employees , of March 31. Besides Reliance , Hindustan Unilever has also given at least one shot to 90 % of employees , while Infosys inoculated 59 % employees and TCS 70 % .'"
      ]
     },
     "execution_count": 7,
     "metadata": {},
     "output_type": "execute_result"
    }
   ],
   "source": [
    "tokenizer.tokenize(news_df.content[0], return_str=True)"
   ]
  },
  {
   "cell_type": "code",
   "execution_count": 60,
   "metadata": {},
   "outputs": [],
   "source": [
    "def tokenize(string):\n",
    "    tokenizer = nltk.tokenize.ToktokTokenizer()\n",
    "    tokenizer.tokenize(string, return_str = True)\n",
    "    return string"
   ]
  },
  {
   "cell_type": "code",
   "execution_count": 9,
   "metadata": {},
   "outputs": [
    {
     "data": {
      "text/plain": [
       "'Reliance Industries has said in a statement that over 98% of its workers have received at least one dose of COVID-19 vaccine so far. The billionaire Mukesh Ambani-led conglomerate had over 2.36 lakh employees, of March 31. Besides Reliance, Hindustan Unilever has also given at least one shot to 90% of employees, while Infosys inoculated 59% employees and TCS 70%.'"
      ]
     },
     "execution_count": 9,
     "metadata": {},
     "output_type": "execute_result"
    }
   ],
   "source": [
    "tokenize(news_df.content[0])"
   ]
  },
  {
   "cell_type": "markdown",
   "metadata": {},
   "source": [
    "3. Define a function named stem. It should accept some text and return the text after applying stemming to all the words."
   ]
  },
  {
   "cell_type": "code",
   "execution_count": 10,
   "metadata": {},
   "outputs": [],
   "source": [
    "ps = nltk.porter.PorterStemmer()"
   ]
  },
  {
   "cell_type": "code",
   "execution_count": 11,
   "metadata": {},
   "outputs": [],
   "source": [
    "stems = [ps.stem(word) for word in news_df.content[0].split()]"
   ]
  },
  {
   "cell_type": "code",
   "execution_count": 12,
   "metadata": {},
   "outputs": [],
   "source": [
    "article_stemmed = ' '.join(stems)"
   ]
  },
  {
   "cell_type": "code",
   "execution_count": 13,
   "metadata": {},
   "outputs": [
    {
     "name": "stdout",
     "output_type": "stream",
     "text": [
      "relianc industri ha said in a statement that over 98% of it worker have receiv at least one dose of covid-19 vaccin so far. the billionair mukesh ambani-l conglomer had over 2.36 lakh employees, of march 31. besid reliance, hindustan unilev ha also given at least one shot to 90% of employees, while infosi inocul 59% employe and tc 70%.\n"
     ]
    }
   ],
   "source": [
    "print(article_stemmed)"
   ]
  },
  {
   "cell_type": "code",
   "execution_count": 14,
   "metadata": {},
   "outputs": [],
   "source": [
    "def stem(string):\n",
    "    ps = nltk.porter.PorterStemmer()\n",
    "    stems = [ps.stem(word) for word in string.split()]\n",
    "    article_stemmed = ' '.join(stems)\n",
    "    return article_stemmed"
   ]
  },
  {
   "cell_type": "markdown",
   "metadata": {},
   "source": [
    "4. Define a function named lemmatize. It should accept some text and return the text after applying lemmatization to each word."
   ]
  },
  {
   "cell_type": "code",
   "execution_count": 15,
   "metadata": {},
   "outputs": [
    {
     "name": "stderr",
     "output_type": "stream",
     "text": [
      "[nltk_data] Downloading package wordnet to\n",
      "[nltk_data]     /Users/parkervoit/nltk_data...\n",
      "[nltk_data]   Package wordnet is already up-to-date!\n"
     ]
    },
    {
     "data": {
      "text/plain": [
       "True"
      ]
     },
     "execution_count": 15,
     "metadata": {},
     "output_type": "execute_result"
    }
   ],
   "source": [
    "nltk.download('wordnet')"
   ]
  },
  {
   "cell_type": "code",
   "execution_count": 16,
   "metadata": {},
   "outputs": [],
   "source": [
    "wnl = nltk.stem.WordNetLemmatizer()"
   ]
  },
  {
   "cell_type": "code",
   "execution_count": 17,
   "metadata": {},
   "outputs": [],
   "source": [
    "lemmas = [wnl.lemmatize(word) for word in news_df.content[0].split()]\n",
    "article_lemmatized = ' '.join(lemmas)"
   ]
  },
  {
   "cell_type": "code",
   "execution_count": 18,
   "metadata": {},
   "outputs": [
    {
     "name": "stdout",
     "output_type": "stream",
     "text": [
      "Reliance Industries ha said in a statement that over 98% of it worker have received at least one dose of COVID-19 vaccine so far. The billionaire Mukesh Ambani-led conglomerate had over 2.36 lakh employees, of March 31. Besides Reliance, Hindustan Unilever ha also given at least one shot to 90% of employees, while Infosys inoculated 59% employee and TCS 70%.\n"
     ]
    }
   ],
   "source": [
    "print(article_lemmatized)"
   ]
  },
  {
   "cell_type": "code",
   "execution_count": 19,
   "metadata": {},
   "outputs": [
    {
     "data": {
      "text/plain": [
       "of       4\n",
       "at       2\n",
       "over     2\n",
       "ha       2\n",
       "least    2\n",
       "dtype: int64"
      ]
     },
     "execution_count": 19,
     "metadata": {},
     "output_type": "execute_result"
    }
   ],
   "source": [
    "pd.Series(lemmas).value_counts()[:5]"
   ]
  },
  {
   "cell_type": "code",
   "execution_count": 20,
   "metadata": {},
   "outputs": [],
   "source": [
    "def lemmatize(string):\n",
    "    wnl = nltk.stem.WordNetLemmatizer()\n",
    "    lemmas = [wnl.lemmatize(word) for word in string.split()]\n",
    "    article_lemmatized = ' '.join(lemmas)\n",
    "    return article_lemmatized"
   ]
  },
  {
   "cell_type": "code",
   "execution_count": 21,
   "metadata": {},
   "outputs": [
    {
     "data": {
      "text/plain": [
       "'Reliance Industries ha said in a statement that over 98% of it worker have received at least one dose of COVID-19 vaccine so far. The billionaire Mukesh Ambani-led conglomerate had over 2.36 lakh employees, of March 31. Besides Reliance, Hindustan Unilever ha also given at least one shot to 90% of employees, while Infosys inoculated 59% employee and TCS 70%.'"
      ]
     },
     "execution_count": 21,
     "metadata": {},
     "output_type": "execute_result"
    }
   ],
   "source": [
    "lemmatize(news_df.content[0])"
   ]
  },
  {
   "cell_type": "markdown",
   "metadata": {},
   "source": [
    "5. Define a function named remove_stopwords. It should accept some text and return the text after removing all the stopwords. This function should define two optional parameters, extra_words and exclude_words. These parameters should define any additional stop words to include, and any words that we don't want to remove"
   ]
  },
  {
   "cell_type": "code",
   "execution_count": 22,
   "metadata": {},
   "outputs": [
    {
     "name": "stderr",
     "output_type": "stream",
     "text": [
      "[nltk_data] Downloading package stopwords to\n",
      "[nltk_data]     /Users/parkervoit/nltk_data...\n",
      "[nltk_data]   Package stopwords is already up-to-date!\n"
     ]
    },
    {
     "data": {
      "text/plain": [
       "True"
      ]
     },
     "execution_count": 22,
     "metadata": {},
     "output_type": "execute_result"
    }
   ],
   "source": [
    "nltk.download('stopwords')"
   ]
  },
  {
   "cell_type": "code",
   "execution_count": 23,
   "metadata": {},
   "outputs": [],
   "source": [
    "stopword_list = stopwords.words('english')"
   ]
  },
  {
   "cell_type": "code",
   "execution_count": 24,
   "metadata": {},
   "outputs": [],
   "source": [
    "words = news_df.content[0].split()"
   ]
  },
  {
   "cell_type": "code",
   "execution_count": 25,
   "metadata": {},
   "outputs": [],
   "source": [
    "filtered_words = [w for w in words if w not in stopword_list]"
   ]
  },
  {
   "cell_type": "code",
   "execution_count": 26,
   "metadata": {},
   "outputs": [
    {
     "name": "stdout",
     "output_type": "stream",
     "text": [
      "Removed 20 stopwords\n"
     ]
    }
   ],
   "source": [
    "print('Removed {} stopwords'.format(len(words) - len(filtered_words)))"
   ]
  },
  {
   "cell_type": "code",
   "execution_count": 27,
   "metadata": {},
   "outputs": [],
   "source": [
    "article_sans_stopwrd = ' '.join(filtered_words)"
   ]
  },
  {
   "cell_type": "code",
   "execution_count": 28,
   "metadata": {},
   "outputs": [
    {
     "data": {
      "text/plain": [
       "'Reliance Industries said statement 98% workers received least one dose COVID-19 vaccine far. The billionaire Mukesh Ambani-led conglomerate 2.36 lakh employees, March 31. Besides Reliance, Hindustan Unilever also given least one shot 90% employees, Infosys inoculated 59% employees TCS 70%.'"
      ]
     },
     "execution_count": 28,
     "metadata": {},
     "output_type": "execute_result"
    }
   ],
   "source": [
    "article_sans_stopwrd"
   ]
  },
  {
   "cell_type": "code",
   "execution_count": 61,
   "metadata": {},
   "outputs": [],
   "source": [
    "def remove_stopwords(string, extra_words = [], exclude_words = []):\n",
    "    '''\n",
    "    This function takes in a string, optional extra_words and exclude_words parameters\n",
    "    with default empty lists and returns a string.\n",
    "    '''\n",
    "    # Create stopword_list.\n",
    "    stopword_list = stopwords.words('english')\n",
    "    \n",
    "    # Remove 'exclude_words' from stopword_list to keep these in my text.\n",
    "    stopword_list = set(stopword_list) - set(exclude_words)\n",
    "    \n",
    "    # Add in 'extra_words' to stopword_list.\n",
    "    stopword_list = stopword_list.union(set(extra_words))\n",
    "    print(string)\n",
    "    # Split words in string.\n",
    "    words = string.split()\n",
    "    \n",
    "    # Create a list of words from my string with stopwords removed and assign to variable.\n",
    "    filtered_words = [word for word in words if word not in stopword_list]\n",
    "    \n",
    "    # Join words in the list back into strings and assign to a variable.\n",
    "    string_without_stopwords = ' '.join(filtered_words)\n",
    "    \n",
    "    return string_without_stopwords\n",
    "    "
   ]
  },
  {
   "cell_type": "code",
   "execution_count": 62,
   "metadata": {},
   "outputs": [
    {
     "name": "stdout",
     "output_type": "stream",
     "text": [
      "Reliance Industries has said in a statement that over 98% of its workers have received at least one dose of COVID-19 vaccine so far. The billionaire Mukesh Ambani-led conglomerate had over 2.36 lakh employees, of March 31. Besides Reliance, Hindustan Unilever has also given at least one shot to 90% of employees, while Infosys inoculated 59% employees and TCS 70%.\n"
     ]
    },
    {
     "data": {
      "text/plain": [
       "'Reliance Industries said statement 98% workers received least one dose COVID-19 vaccine far. The billionaire Mukesh Ambani-led conglomerate 2.36 lakh employees, March 31. Besides Reliance, Hindustan Unilever also given least one shot 90% employees, Infosys inoculated 59% employees TCS 70%.'"
      ]
     },
     "execution_count": 62,
     "metadata": {},
     "output_type": "execute_result"
    }
   ],
   "source": [
    "remove_stopwords(news_df.content[0])"
   ]
  },
  {
   "cell_type": "code",
   "execution_count": 46,
   "metadata": {},
   "outputs": [],
   "source": [
    "codeup_df = acquire.acquire_codeup_blog()"
   ]
  },
  {
   "cell_type": "code",
   "execution_count": 47,
   "metadata": {},
   "outputs": [],
   "source": [
    "# news_df = news_df.rename(columns = {'content':'original'})"
   ]
  },
  {
   "cell_type": "code",
   "execution_count": 48,
   "metadata": {},
   "outputs": [
    {
     "data": {
      "text/html": [
       "<div>\n",
       "<style scoped>\n",
       "    .dataframe tbody tr th:only-of-type {\n",
       "        vertical-align: middle;\n",
       "    }\n",
       "\n",
       "    .dataframe tbody tr th {\n",
       "        vertical-align: top;\n",
       "    }\n",
       "\n",
       "    .dataframe thead th {\n",
       "        text-align: right;\n",
       "    }\n",
       "</style>\n",
       "<table border=\"1\" class=\"dataframe\">\n",
       "  <thead>\n",
       "    <tr style=\"text-align: right;\">\n",
       "      <th></th>\n",
       "      <th>title</th>\n",
       "      <th>content</th>\n",
       "      <th>category</th>\n",
       "    </tr>\n",
       "  </thead>\n",
       "  <tbody>\n",
       "    <tr>\n",
       "      <th>0</th>\n",
       "      <td>Reliance Industries vaccinates 98% of workers,...</td>\n",
       "      <td>Reliance Industries has said in a statement th...</td>\n",
       "      <td>business</td>\n",
       "    </tr>\n",
       "    <tr>\n",
       "      <th>1</th>\n",
       "      <td>Musk criticises Apple's 'walled garden', cobal...</td>\n",
       "      <td>Tesla's billionaire CEO Elon Musk criticised A...</td>\n",
       "      <td>business</td>\n",
       "    </tr>\n",
       "    <tr>\n",
       "      <th>2</th>\n",
       "      <td>I will most likely not be on future earnings c...</td>\n",
       "      <td>Tesla CEO and the world's second-richest perso...</td>\n",
       "      <td>business</td>\n",
       "    </tr>\n",
       "    <tr>\n",
       "      <th>3</th>\n",
       "      <td>Speculation around our plans for crypto not tr...</td>\n",
       "      <td>Amazon on Monday denied speculations that it w...</td>\n",
       "      <td>business</td>\n",
       "    </tr>\n",
       "    <tr>\n",
       "      <th>4</th>\n",
       "      <td>Govt may lower import duty on EVs if Tesla man...</td>\n",
       "      <td>The government is open to consider reducing im...</td>\n",
       "      <td>business</td>\n",
       "    </tr>\n",
       "    <tr>\n",
       "      <th>...</th>\n",
       "      <td>...</td>\n",
       "      <td>...</td>\n",
       "      <td>...</td>\n",
       "    </tr>\n",
       "    <tr>\n",
       "      <th>94</th>\n",
       "      <td>A Northeast actor should be cast if biopic is ...</td>\n",
       "      <td>Actor Adil Hussain feels that Bollywood should...</td>\n",
       "      <td>entertainment</td>\n",
       "    </tr>\n",
       "    <tr>\n",
       "      <th>95</th>\n",
       "      <td>Got it purely on merit, it's incredible: Kubbr...</td>\n",
       "      <td>Actress Kubbra Sait, who celebrates her birthd...</td>\n",
       "      <td>entertainment</td>\n",
       "    </tr>\n",
       "    <tr>\n",
       "      <th>96</th>\n",
       "      <td>MS Dhoni is so down to earth, I'm a fan now: F...</td>\n",
       "      <td>Filmmaker Farah Khan praised former Indian cap...</td>\n",
       "      <td>entertainment</td>\n",
       "    </tr>\n",
       "    <tr>\n",
       "      <th>97</th>\n",
       "      <td>Among all my co-stars, I am closest to Tiger S...</td>\n",
       "      <td>Tara Sutaria, who made her Bollywood debut wit...</td>\n",
       "      <td>entertainment</td>\n",
       "    </tr>\n",
       "    <tr>\n",
       "      <th>98</th>\n",
       "      <td>I love Shah Rukh Khan, would love to work with...</td>\n",
       "      <td>Actor Arya, whose Tamil-language sports action...</td>\n",
       "      <td>entertainment</td>\n",
       "    </tr>\n",
       "  </tbody>\n",
       "</table>\n",
       "<p>99 rows × 3 columns</p>\n",
       "</div>"
      ],
      "text/plain": [
       "                                                title  \\\n",
       "0   Reliance Industries vaccinates 98% of workers,...   \n",
       "1   Musk criticises Apple's 'walled garden', cobal...   \n",
       "2   I will most likely not be on future earnings c...   \n",
       "3   Speculation around our plans for crypto not tr...   \n",
       "4   Govt may lower import duty on EVs if Tesla man...   \n",
       "..                                                ...   \n",
       "94  A Northeast actor should be cast if biopic is ...   \n",
       "95  Got it purely on merit, it's incredible: Kubbr...   \n",
       "96  MS Dhoni is so down to earth, I'm a fan now: F...   \n",
       "97  Among all my co-stars, I am closest to Tiger S...   \n",
       "98  I love Shah Rukh Khan, would love to work with...   \n",
       "\n",
       "                                              content       category  \n",
       "0   Reliance Industries has said in a statement th...       business  \n",
       "1   Tesla's billionaire CEO Elon Musk criticised A...       business  \n",
       "2   Tesla CEO and the world's second-richest perso...       business  \n",
       "3   Amazon on Monday denied speculations that it w...       business  \n",
       "4   The government is open to consider reducing im...       business  \n",
       "..                                                ...            ...  \n",
       "94  Actor Adil Hussain feels that Bollywood should...  entertainment  \n",
       "95  Actress Kubbra Sait, who celebrates her birthd...  entertainment  \n",
       "96  Filmmaker Farah Khan praised former Indian cap...  entertainment  \n",
       "97  Tara Sutaria, who made her Bollywood debut wit...  entertainment  \n",
       "98  Actor Arya, whose Tamil-language sports action...  entertainment  \n",
       "\n",
       "[99 rows x 3 columns]"
      ]
     },
     "execution_count": 48,
     "metadata": {},
     "output_type": "execute_result"
    }
   ],
   "source": [
    "news_df"
   ]
  },
  {
   "cell_type": "code",
   "execution_count": 58,
   "metadata": {},
   "outputs": [
    {
     "data": {
      "text/plain": [
       "title  content  category\n",
       "False  False    False       99\n",
       "dtype: int64"
      ]
     },
     "execution_count": 58,
     "metadata": {},
     "output_type": "execute_result"
    }
   ],
   "source": [
    "  #news_df = news_df.rename(columns = {'content':'original'})\n",
    "news_df.isnull().value_counts()"
   ]
  },
  {
   "cell_type": "code",
   "execution_count": 63,
   "metadata": {},
   "outputs": [
    {
     "name": "stdout",
     "output_type": "stream",
     "text": [
      "reliance industries has said in a statement that over 98 of its workers have received at least one dose of covid19 vaccine so far the billionaire mukesh ambaniled conglomerate had over 236 lakh employees of march 31 besides reliance hindustan unilever has also given at least one shot to 90 of employees while infosys inoculated 59 employees and tcs 70\n",
      "teslas billionaire ceo elon musk criticised apple twice during an earnings call that took place on monday in a reference to apple musk said teslas goal is to support sustainable energy not to create a walled garden used by some companies to bludgeon competitors he also explained that while apple uses almost 100 cobalt in batteries tesla uses much lesser\n",
      "tesla ceo and the worlds secondrichest person elon musk during his companys secondquarter earnings call on monday said i will no longer default to doing earnings call he added obviously ill do the annual shareholder meeting but i think that going forward ill most likely not be on earnings calls unless theres something really important that i need to say\n",
      "amazon on monday denied speculations that it was looking to accept bitcoin and other cryptocurrencies as a form of payment by the end of the year saying those speculations are not true the speculations regarding the same were fuelled by an amazon job posting seeking a digital currency and blockchain product lead bitcoin soared past 40000 briefly over the speculations\n",
      "the government is open to consider reducing import duty and offer incentives for tesla if it decides to manufacture its cars in india et reported citing a government official last week ceo elon musk said tesla wants to launch electric vehicles evs in india but import duties are the highest in the world by far of any large country\n",
      "inox leisure denied a report that claimed amazon india is in discussions with the cinema chain to buy a stake and said the report was factually incorrect shares of inox jumped 143 but pared some gains to last trade 6 up the indian express had reported amazon india is in talks with players in film and media distribution including inox\n",
      "the international monetary fund imf cut its 2021 economic growth forecast for india by 300 basis points to 95 in its april review imf had pegged indias economic growth for the year at 125 growth prospects in india have been downgraded following the severe second covid19 wave during marchmay and expected slow recovery in confidence from that setback imf said\n",
      "hong kongs billionaire lee man tat known as the king of oyster sauce for his role as the chairman of chinese and asian sauces maker lee kum kee group passed away at 91 on monday a statement on the wechat account of infinitus a healthproducts company led by his son confirmed lees death lee had a fortune of 176 billion\n",
      "marlboro maker philip morris internationals ceo jacek olczak has said that the tobacco company will stop selling marlboro cigarettes in the uk by 2030 he said the plans were part of the companys drive to phase out cigarette smoking in the uk olczak said the marlboro brand will disappear from the uk ending an over 100year association with the country \n",
      "tata sons chairman emeritus ratan tata said that he has not been approached by anyone with regards to tata sons chairman n chandrasekarans second term any decision regarding the succession will be taken after fair and due deliberations by the board he added this comes after reports claimed that chandrasekaran was set for a second term as tata sons chief\n",
      "mos for finance pankaj chaudhary on tuesday confirmed that a french court has passed an order freezing certain indian government properties in the case pertaining to cairn energy cairn is seeking to recover 17 billion from india after winning an arbitration award in a tax dispute \n",
      "earlier reports said cairn seized 20 indian governmentowned properties in france after the order\n",
      "dr reddys laboratories expects locally manufactured sputnik v covid19 vaccine to be available from septemberoctober period the firms ceo of branded markets india and emerging markets mv ramana said local manufacturers arein the process of technology absorption and scale up he added the vaccines arrival is getting delayed due to the spike in covid19 cases in russia he said\n",
      "goldman sachs groups assetmanagement arm has filed an application with the us securities and exchange commission to offer an exchangetraded fund etf focused on securities of cryptocurrencyrelated companies the goldman sachs innovate defi and blockchain equity etf would track the solactive decentralized finance and blockchain index sec is reviewing several other bitcoin etf applications\n",
      "dumani mandela grandson of former president of south africa nelson mandela is set to auction two of his novels as nonfungible tokens nfts in august on opensea dumanis novels i dream of kemet and young and on the run from apartheid will be converted as nfts funds raised will be used for a mental health care app\n",
      "food delivery platform zomatos share price surged almost 5 to hit an alltime high of 1478 during intraday trade on tuesday its stock price has nearly doubled from the initial public offering ipo price of 76 per share brokerage firm ubs securities said zomatos share price is likely to rally 12 more and initiated a buy rating to the stock\n",
      "flipkart has challenged the karnataka high courts last weeks decision which cleared the way for the cci to probe firms like flipkart and amazon in the supreme court media reports said flipkart has filed an appeal and the matter may be heard later this week amazon could also file a similar petition in the supreme court to challenge the probe\n",
      "online beauty and lifestyle etailer nykaa has changed its status from a private company to a public limited company ahead of its planned ipo according to regulatory filings its shareholders on july 16 passed a special resolution to this effect filings show that nykaas holding company has been renamed fsn ecommerce ventures limited from fsn ecommerce ventures private limited \n",
      "active pharmaceutical ingredients api manufacturer glenmark life sciences 1514crore initial public offering ipo was fully subscribed within one hour of opening on july 27 the offer received bids for 184 crore shares against the ipo size of 15 crore shares the portion reserved for retail investors was subscribed 236 times as of 12 pm on the first day of bidding \n",
      "adani ports and special economic zone apsez has raised 750 million around 5580 crore overseas through unsecured bonds the company claimed that it has become the first infrastructure company in india to successfully raise 20 years money from international marketsthe coupon rates for the 105year and 20year dualtranches bonds were fixed at 38 and 5 respectively\n",
      "the number of wilful defaulters has increased from 2208 to 2494 as of march 31 finance minister nirmala sitharaman informed the parliament according to rbi data public sector banks psbs have effected recovery of 312987 crore in nonperforming assets npas and writtenoff loans she added banks can initiate criminal proceedings against wilful defaulters wherever necessary she said\n",
      "indigoparent interglobe aviation reported a net loss of 31742 crore for the apriljune quarter as against 28443 crore in the yearago period this was the firms sixth consecutive quarterly loss however its revenue from operations surged 292 yearonyear to 30069 crore our financial resultswere severely impacted by the second covid19 wave indigo ceo ronojoy dutta said\n",
      "esaf small finance bank has filed a draft red herring prospectus drhp with the securities and exchange board of india sebi to raise 998 crore via its initial public offering ipo the ipo comprises a fresh issue of shares worth 800 crore and offer for sale totalling 1977 crore upon successful listing esaf will join industrylisted peers like bandhan bank \n",
      "india can potentially save 8940 crore 12 billion a year by shutting down some old coalburning power plants and allowing newer ones to run for longer hours a study said india should accelerate decommissioning 30 gw of inefficient coalfired capacity and set aside 20 gw of plants as reserve the study by council on energy environment and water ceew added\n",
      "shares of dlf on tuesday rose by as much as 314 to 34450 its 52week high level on the bse this comes after the company reported a consolidated net profit of 33717 crore in the april to june quarter of this fiscal year the company had posted a net loss of 7152 crore during the same period last year\n",
      "dr reddys laboratories limiteds shares fell by over 10 to 483645 apiece on bse during intraday trade after the pharmaceuticals major declared its first quarter earnings on tuesday dr reddys and its subsidiaries reported a consolidated profit of 5708 crore in the apriljune quarter as against 5793 crore in the yearago period dr reddys profit after tax pat dropped 36 \n",
      "jeff bezos amazon founder and worlds richest person with 204billion wealth successfully travelled to space in his company blue origins first human flight the 57yearold travelled in new shepard rocket with his brother mark bezos 82yearold aviator wally funk and 18yearold paying tourist oliver daemen the flight broke the record for the youngest person and the oldest person in space\n",
      "americas 82yearold wally funk who flew to space with the worlds richest person jeff bezos on blue origins first human flight on tuesday has become the oldest person to travel to space she took a postcard bearing her picture to space before her space flight today americas john glenn was the oldest to fly to space at 77\n",
      "worlds richest man jeff bezos may not be considered an astronaut based on the new rules issued by us federal aviation administration on july 20 the same day of his space flight one of the requirements states that astronaut hopefuls must also demonstrate activities during flight that were essential to public safety or contributed to human space flight safety\n",
      "an eighteenyearold from the netherlands oliver daemen will become the youngest person to travel to space aboard blue origins spacecraft on july 20 daemen wholl accompany the worlds richest person jeff bezos to space is the son of dutch millionaire joes daemen he has a private pilots licence and will study physics and innovative management at the university of utrecht\n",
      "amazon founder and worlds richest person jeff bezos has landed after having travelled successfully to space in blue origins first human flight bezos voyage to space lasted about 10 minutes and 20 seconds the flight coincides with the anniversary of astronauts neil armstrong and edwin aldrin becoming the first humans to walk on moon\n",
      "scientists have found nearly 15000yearsold viruses in ice samples taken from the tibetan plateau in china according to a study published in the journal microbiome most of these viruses arent known to humans as they might be active on the glacier surfaces before being frozen thousands of years ago the findings may help understand how viruses have evolved over centuries\n",
      "a new species of catshark apristurus manocheriani has recently been discovered in southwest indian ocean by researchers from the pacific shark research center in the us an average male and female of the species can measure about 55cm and 49cm respectively it has numerous large teeth in the upper and lower jaw\n",
      "scientists at the university of notre dame in a study have listed india and china among the worlds top five countries most vulnerable to climate change and air pollution the study which explores the combined risks of the two aspects states that the two countries have witnessed high risks due to climate changeinduced extreme rainfall frequent cyclones and heatwaves \n",
      "a lagoon situated in the southern patagonia region of argentina has turned into bright pink in colour as per the local activists and environmentalists the reason behind the water being coloured this way is the pollution caused by sodium sulfite used to preserve the prawns there sodium sulfite is an antibacterial product used in fish factories\n",
      "a 1972 study by massachusetts institute of technology mit which said that the human society is on the verge of collapsing in the next two decades may become a reality new research has said the research says the current businessasusual trajectory of civilisation is heading towards a terminal decline of economic growth and could trigger societal collapse by around 2040\n",
      "nasa took to instagram to share a picture of jupiters unusual xray auroras it said jupiter has the most powerful auroras in the solar system and is the only one of the four giant planets with an aurora that has been found to emit xrays they are caused by ions surfing electromagnetic waves in jupiters magnetic field nasa said\n",
      "a 12yearold boy with a bright yellow tongue was diagnosed with cold agglutinin disease in canada the rare autoimmune disorder led to his immune system attacking and destroying its own red blood cells doctors suspect the boy contracted the disease due to an infection from epsteinbarr virus the boy needed a blood transfusion and also received treatment with oral steroids\n",
      "an asteroid named 2008 go20 sized about 220 metres in diameter will pass by earth on july 24 according to nasa its moving at a speed of around 29500 kmhr though the asteroid will be very close to earth it will still be 004 au astronomical unit or 5983915 km away from earth according to nasas calculations\n",
      "blue origin founder jeff bezos is offering to waive nasas payments of up to 2 billion in exchange for a lunar lander contract in a letter to nasa administrator bill nelson bezos said hes grateful to be in a financial position to be able to do so further blue origin will selffund a pathfinder mission to lowearth orbit he said\n",
      "researchers in us used a helmet that generates a magnetic field to shrink a deadly tumour in a 53yearold mans brain the patient ultimately died from an unrelated injury but an autopsy of his brain confirmed rapid response to the treatment the test marked worlds first noninvasive therapy for the deadliest of brain cancers known as glioblastoma the researchers said\n",
      "uc riverside researchers have developed pneumatic computer memory that they used to help a soft robot play a song on a piano they produced an 8bit pneumatic ram chip and incorporated it into a pair of 3dprinted rubber hands the ram uses atmosphericpressure air to represent a 0 or false value and vacuum to represent a 1 or true value\n",
      "virgin groups billionaire founder richard branson has congratulated the worlds richest person jeff bezos after he successfully completed his first spaceflight well done blue origin jeff bezos mark wally and oliver impressive very best to all the crew from me and all the team at virgin galactic branson tweeted branson had travelled to space on july 11\n",
      "spacex has been selected by nasa to provide services for earths first mission to conduct detailed investigations of jupiters moon europa nasa announced the europa clipper mission will investigate whether the icy moon has conditions suitable for life the total contract award amount for launch services is approximately 178 million\n",
      "billionaire richard bransons virgin galactic has wished the entire team of jeff bezos blue origin a successful and safe flight ahead of bezos spaceflight today commenting on a video posted by bezos regarding his crews training branson wrote best wishes to jeff bezos and the blue origin crew from all of us at virgin galactic\n",
      "worlds richest man jeff bezosowned blue origin has announced that it will be flying two more passenger spaceflight missions this year unlike the flight that carried bezos to space on july 20 future spaceflights will have six passengers the firm said jeff bezos flew to space with his brother mark bezos 82yearold wally funk and 18yearold oliver daemen\n",
      "a harvard universityled team has launched the galileo project that will seek and investigate evidence that could represent defunct or stillactive extraterrestrial technological civilizations using astronomical survey data and telescope observations new algorithms using ai will be made to identify potential interstellar travellers alienbuilt satellites and unidentified aerial phenomena\n",
      "astronomers have uncovered evidence of water vapour in the atmosphere of jupiters moon ganymede for the first time nasa said researchers looked through the last two decades of data from the hubble space telescope previous studies have shown that ganymede may have more water than earth but as it is extremely cold the water on the surface may be frozen \n",
      "an unusually large meteor briefly illuminated the night sky over southern norway on july 25 parts of which are expected to have landed near oslo it travelled at 1520 kilometressecond and lit up the sky for about fivesix seconds a norwegian meteor network official said it was accompanied by a loud rumbling sound that was heard over a large area\n",
      "the tollund man a mummified corpse that was found in denmark in 1950 had barley porridge as his last meal 2400 years ago researchers including those from aarhus university found the porridge also contained flax and seeds and a small amount of fish researchers also suggested that the tollund man might have been the victim of a human sacrifice ritual \n",
      "a 150millionyearold fossilised skeleton discovered in chile in 2014 belongs to the ancestor of the modern crocodile the species has been named burkesuchus mallingrandensis about 200 million years ago crocodiles were smaller and did not live in water and the fossils will help understand how these reptiles went from being terrestrial to aquatic a researcher said\n",
      "londonbased brand nothing launched true wireless buds ear 1 today promising iconic transparent design and premium user experience it delivers pure sound with stateoftheart active noise cancellation playtime up to 34 hours and 116mm driver nothing said it marries advanced technology precise engineering and groundbreaking design at unbelievable price ceo carl pei said\n",
      "oneplus has announced various deals on their entire product ecosystem as part of a weeklong sale comprising of the wishlist sale on oneplusin and prime day 2021 on amazonin offers will include up to 4000 discount and 7000 exchange offer on oneplus 9 series 1000 discount on nord 2 5g and up to 2000 discount on oneplus tv u1s\n",
      "toyotas cue robot shot perfect free throws during halftime of the united states mens basketball loss to france at the tokyo olympics while the 6foot10inch robot can make perfect throws it cant dribble or jump the basketball robots cue3 version holds the guinness world record for the most consecutive basketball free throws by a humanoid robot assisted with 2020 throws\n",
      "amazon on monday denied speculations that it was looking to accept bitcoin and other cryptocurrencies as a form of payment by the end of the year saying those speculations are not true the speculations regarding the same were fuelled by an amazon job posting seeking a digital currency and blockchain product lead bitcoin soared past 40000 briefly over the speculations\n",
      "facebook messenger and facebookowned instagram on tuesday announced the platforms will now only allow advertisers to target ads to people under 18 or older in certain countries based on their age gender and location until now ad targeting to this age group was allowed on the basis of their interests or their activity on other apps and websites\n",
      "ola ceo bhavish aggarwal said he strongly disagrees with tesla and hyundais call for lower duties in india on imported electric vehicles evs lets have confidence in our ability to build indigenously aggarwal tweeted he was responding to a tweet saying hyundai motor indias md ss kim has backed teslas call and said lower duties will help grow ev market\n",
      "the hindus former editor n ram and asianet founder sashi kumar have asked the supreme court to order the centre to reveal whether it used pegasus spyware directly or indirectly to carry out surveillance they also filed a petition seeking a courtordered investigation into the reports of surveillance earlier reports said over 40 indian journalists were among potential pegasus targets \n",
      "tesla ceo and the worlds secondrichest person elon musk during his companys secondquarter earnings call on monday said i will no longer default to doing earnings call he added obviously ill do the annual shareholder meeting but i think that going forward ill most likely not be on earnings calls unless theres something really important that i need to say\n",
      "congress mp shashi tharoor said the parliamentary panel on information technology will question government officials on allegations that indian politicians journalists were targeted using pegasus spyware he asserted that it is the most important issue for many members of the committee parliament is not functioning because of this issue people are anxious to find out about this he added\n",
      "teslas billionaire ceo elon musk criticised apple twice during an earnings call that took place on monday in a reference to apple musk said teslas goal is to support sustainable energy not to create a walled garden used by some companies to bludgeon competitors he also explained that while apple uses almost 100 cobalt in batteries tesla uses much lesser\n",
      "researchers in us used a helmet that generates a magnetic field to shrink a deadly tumour in a 53yearold mans brain the patient ultimately died from an unrelated injury but an autopsy of his brain confirmed rapid response to the treatment the test marked worlds first noninvasive therapy for the deadliest of brain cancers known as glioblastoma the researchers said\n",
      "a canadian animal health technology company has developed an app that can tell whether a cat is feeling pain by using a smartphones camera the app known as tably looks at a cats ear and head position eyenarrowing muzzle tension and how whiskers change to detect distress the app was trained using machine learning and a series of images\n",
      "indianas department of transport is testing a new type of cement with embedded magnetised particles that can wirelessly charge electric vehicles as they drive the cement will be tested in a lab in first two phases and then a quartermilelong road for testing will be constructed after finishing the tests a segment of interstate highway within indiana will be electrified\n",
      "the us justice department is probing whether executives behind the cryptocurrency stablecoin tether committed bank fraud during the nascent stages of its business bloomberg reported prosecutors are examining whether tether concealed from banks that transactions were linked to cryptocurrency tether said it routinely has an open dialogue with law enforcement agencies for transparency\n",
      "nearly a thousand employees have condemned activision blizzards response to a lawsuit against it over sexual harassment and discrimination and called it abhorrent and insulting media reports said to claim this is a truly meritless and irresponsible lawsuit while seeing so manyemployees speak out about theirexperiencesis simply unacceptable a letter from staff reportedly read\n",
      "dumani mandela grandson of former president of south africa nelson mandela is set to auction two of his novels as nonfungible tokens nfts in august on opensea dumanis novels i dream of kemet and young and on the run from apartheid will be converted as nfts funds raised will be used for a mental health care app\n",
      "pune municipal corporations general body cojointly gave a goahead to the ebike renting project along with setting up of 2000 ev charging points and 3000 ev battery swapping points at 500 locations across pune city  the venture has been approved under the green pune initiative wherein vtro motors will be taking charge of all the costs incurred for this project\n",
      "chinas industry ministry has launched a sixmonth campaign to clean up the tough problems with internet apps including disturbing market order infringing users rights threatening data security and unauthorised internet connections the campaign will target 22 specific scenarios including apps that do not allow users to opt out of personalisation or use popups to mislead or deceive users\n",
      "tencentowned wechat has temporarily suspended new users registration in mainland china as it undergoes a technical upgrade to align with relevant laws and regulations registration services will be restored after the upgrade is complete which is expected in early august it said wechat has reportedly amassed over 12 billion monthly active users in china as of earlier this year\n",
      "goldman sachs groups assetmanagement arm has filed an application with the us securities and exchange commission to offer an exchangetraded fund etf focused on securities of cryptocurrencyrelated companies the goldman sachs innovate defi and blockchain equity etf would track the solactive decentralized finance and blockchain index sec is reviewing several other bitcoin etf applications\n",
      "russian internet regulator roskomnadzor has blocked 49 websites linked to president vladimir putins jailed critic alexey navalny including his personal website roskomnadzor said it blocked the websites at the request of the prosecutor general it also said the websites were being used for propaganda of extremist groups\n",
      "a us judge has ordered a man accused of participating in the us capitol riots on january 6 to unlock his laptop this comes after prosecutors argued that the laptop likely contained footage of the attack the judge granted them permission to place guy reffitt in front of his laptop so they could use facial recognition to unlock the device\n",
      "linkedin has been blocked in kazakhstan over fake accounts and online casino advertisements the countrys ministry of information and social development said on tuesday according to the ministry linkedin was asked to remove the items in question but it has failed to comply access will be restored to the social networking platform once it addresses those complaints the ministry said\n",
      "bengaluru has been ranked eighth in the top 10 cities seen as leading technology innovation hubs over the next four years outside of silicon valley in us san francisco according to a report by professional services firm kpmg according to the report titled technology innovation hubs covid19 has accelerated new ways of working but the hubs are here to stay\n",
      "a trader from gujarat has filed a complaint with mumbai crime branch and cyber police alleging he has been cheated of 3 lakh by businessman raj kundras firm the trader said kundras firm cheated him on the pretext of making him distributor for an online cricket skillbased game he also alleged that many people were cheated of crores like him\n",
      "modelactor milind somans wife ankita konwar took to social media and talked about racism in india ankita who hails from assam wrote in an instagram post if youre from northeast india you can become an indian only when you win a medal for the country otherwise we are known as chy chinese nepali or a new addition corona she added \n",
      "a mumbai crime branch official has said that actress shilpa shetty hasnt been given a clean chit yet in the porn videos case in which her husband raj kundra has been arrested all possibilities and angles are being probed forensic auditors are appointed and they are looking into the transactions of all accounts in this case the official added \n",
      "flora saini who played the titular character in stree commented on her name appearing in purported whatsapp chats between raj kundra and his aide ive never interacted with kundraif two people discuss my namethat doesnt mean iminvolved with what was being discussed she told etimes in the chat they discussed if they could rope in flora for a song\n",
      "james gunns the suicide squad starring margot robbie and john cena is all set to hit indian theatres on august 5 warner bros india has announced in addition to robbie and cena itll also feature idris elba and joel kinnaman warner bros india also announced the release date of mortal kombat and the conjuring the devil made me do it \n",
      "shefali shah while speaking about her international emmy awardwinning series delhi crime said it changed everything for me with delhi crime they filmmakers realised they can put an entire show or a film on my shoulders or i can be the parallel lead shefali said adding they got the confidence that im not just somebody who needs to be inbackground \n",
      "in his latest instagram post arjun kapoor shared the before and after pictures of his body transformation and called himself a work in progress he wrote i love every chapter of my lifei have always been myself at every step of the wayim a work in progressmy mother told me every stage of your life is a journey \n",
      "\n",
      "south indian actress parul yadav spoke about the time when she got infected with covid19 she said my covid19 was really bad as i had all the symptomsand i had 103 fever for 12 days i remember writing an email which i sent to my dear onessaying if i die my property should be divided between my sisters she added\n",
      "taking to his instagram story singer aditya narayan denied the reports of him participating in bigg boss 15 aditya said he doesnt have the time nor the inclination to participate he wrote contrary to speculation im not going to be a contestant on the upcoming season of bigg bossalways happy to guest feature would even love to host it someday\n",
      "filmmaker ali abbas zafar while speaking about his journey in the film industry said the journey has been full of learning and experiences aditya chopra sir and salman khan have been two pillars of my career they have been very helpful he added ali worked with salman in sultan and tiger zinda hai both the films were produced by aditya  \n",
      "filmmaker aditya vikram senguptas once upon a time in calcutta will premiere at the 78th venice international film festival the film will be screened in the orizzonti horizons section venice is a dream festival for any filmmaker and were extremely gratefulto be back with a bengali film about the city especially on birth centenary of satyajit ray sengupta said\n",
      "reacting to rumours about a tiff between the cast of the show taarak mehta ka ooltah chashmah actor dilip joshi said we are a great team which is why the show is doing so well just because someone wants to write something to grab eyeballs on social media they cook up a story he added\n",
      "marathi actor umesh kamat has issued a statement saying that he has decided to take legal action against some media platforms and news channels for falsely associating him with raj kundra porn videos case he said this irresponsible action has caused tremendous humiliationand agony to him and his family earlier mumbai police had arrested kundras former employee umesh kamat\n",
      "actor atul kulkarni will share screen space with actor ajay devgn in the upcoming series titled rudra  the edge of darkness reportedly the series is set to be shot across mumbai and will also star esha deol its a gripping series that willdisrupt the genre of cop dramas in indiai cant wait to begin filming this one atul said\n",
      "\n",
      "television actress shweta tiwari has been roped in to play a cbi officer in the upcoming suspensethriller show named shukla vs tripathi i play a nononsense cbi officer ridhima lakha who cannot be swayed or bribed  as we begin this journey i just wish for love and support from my fans shweta said about the new project\n",
      "veteran actress savita bajaj who is unwell and is facing a financial crisis received monetary help from actors ayushmann khurrana and jackie shroff meanwhile actor sonu sood donated an oxygen concentrator she was hospitalised after she complained of breathlessness the actress has been diagnosed with emphysema a lung disease that causes shortness of breath \n",
      "actor shoaib ibrahim took to instagram stories to share a health update about his father who suffered a brain stroke recently in a video message he said after brain stroke the next 72 hours are extremely critical as one can get strokeagain however he added that his fathers veins havent suffered much and doctors have asked them not to worry \n",
      "actress shweta tiwaris exhusband actor raja chaudhary said that he wants to revive his acting career and live in mumbai so that he can be close to his daughter palak tiwari he added the meeting with palak made me realise how hungry im for my daughters love iwant her in my life and soi decidedill now stay in mumbai\n",
      "a liveaction pokemon web series is currently in the early development stage at the streaming platform netflix variety reported while the ott platform has not shared any details about the plotline of the upcoming series according to the reports lucifer creator joe henderson is attached to write and executive produce the project\n",
      "bigg boss 14 contestant jaan kumar sanu spoke about not being invited to rahul vaidya and disha parmars wedding jaan said that he wouldnt have attended the wedding even if he was invited he added i dont think i would have gone because there arenumber of things that have gone south with us so i wish hima happy married life\n",
      "actor adil hussain feels that bollywood should rope in an actor from the northeast whenever they plan a biopic on olympic medalist mirabai chanu unlike mary kom which starred priyanka chopra jonas instead of an actor from manipur if someone makes a movie on mirabai chanu im sure theyd be more imaginative and cast someone from the northeast he said \n",
      "actress kubbra sait who celebrates her birthday on july 27 spoke about making her international debut with the show foundation she said its incredible when you get something based on pure merit and not entirely crediting it to luck when i saw myself in the teaser iwent like im here it kind of sealed the deal for me she added\n",
      "filmmaker farah khan praised former indian captain ms dhoni after working with him on an advertisement shoot directed dhoni for an advertisement today what an amazing guy so punctual and so down to earth he took pictures with everyone from clients to spot boys with a smile im a fan now she wrote on instagram alongside her picture with dhoni\n",
      "tara sutaria who made her bollywood debut with tiger shroffstarrer student of the year 2 spoke about her equation with the actor and said i must sayamong all my costars imclosest to tiger i did my first film with him and hes also the first friend i made inindustry said tara wholl reunite with tiger for ahmed khans heropanti 2 \n",
      "actor arya whose tamillanguage sports action film sarpatta parambarai released earlier this month said he wants to work with actor shah rukh khan i love shah rukh khan and if given a chance i will work with him i would also love to collaborate with bollywood actors likeaamir khan and salman khan he added\n",
      "\n",
      "\n"
     ]
    }
   ],
   "source": [
    "news_df['clean'] = news_df['content'].apply(basic_clean)\\\n",
    "                            .apply(tokenize)\\\n",
    "                            .apply(remove_stopwords)"
   ]
  },
  {
   "cell_type": "code",
   "execution_count": 64,
   "metadata": {},
   "outputs": [],
   "source": [
    "def prep_article_data(df, column, extra_words=[], exclude_words=[]):\n",
    "    '''\n",
    "    This function take in a df and the string name for a text column with \n",
    "    option to pass lists for extra_words and exclude_words and\n",
    "    returns a df with the text article title, original text, stemmed text,\n",
    "    lemmatized text, cleaned, tokenized, & lemmatized text with stopwords removed.\n",
    "    '''\n",
    "    \n",
    "    df['clean'] = df[column].apply(basic_clean)\\\n",
    "                            .apply(tokenize)\\\n",
    "                            .apply(remove_stopwords, \n",
    "                                   extra_words=extra_words, \n",
    "                                   exclude_words=exclude_words)\n",
    "    \n",
    "    df['stemmed'] = df[column].apply(basic_clean)\\\n",
    "                            .apply(tokenize)\\\n",
    "                            .apply(stem)\\\n",
    "                            .apply(remove_stopwords, \n",
    "                                   extra_words=extra_words, \n",
    "                                   exclude_words=exclude_words)\n",
    "    \n",
    "    df['lemmatized'] = df[column].apply(basic_clean)\\\n",
    "                            .apply(tokenize)\\\n",
    "                            .apply(lemmatize)\\\n",
    "                            .apply(remove_stopwords, \n",
    "                                   extra_words=extra_words, \n",
    "                                   exclude_words=exclude_words)\n",
    "    \n",
    "    return df[['title', column,'clean', 'stemmed', 'lemmatized']]\n",
    "    "
   ]
  },
  {
   "cell_type": "code",
   "execution_count": 65,
   "metadata": {},
   "outputs": [
    {
     "name": "stdout",
     "output_type": "stream",
     "text": [
      "reliance industries has said in a statement that over 98 of its workers have received at least one dose of covid19 vaccine so far the billionaire mukesh ambaniled conglomerate had over 236 lakh employees of march 31 besides reliance hindustan unilever has also given at least one shot to 90 of employees while infosys inoculated 59 employees and tcs 70\n",
      "teslas billionaire ceo elon musk criticised apple twice during an earnings call that took place on monday in a reference to apple musk said teslas goal is to support sustainable energy not to create a walled garden used by some companies to bludgeon competitors he also explained that while apple uses almost 100 cobalt in batteries tesla uses much lesser\n",
      "tesla ceo and the worlds secondrichest person elon musk during his companys secondquarter earnings call on monday said i will no longer default to doing earnings call he added obviously ill do the annual shareholder meeting but i think that going forward ill most likely not be on earnings calls unless theres something really important that i need to say\n",
      "amazon on monday denied speculations that it was looking to accept bitcoin and other cryptocurrencies as a form of payment by the end of the year saying those speculations are not true the speculations regarding the same were fuelled by an amazon job posting seeking a digital currency and blockchain product lead bitcoin soared past 40000 briefly over the speculations\n",
      "the government is open to consider reducing import duty and offer incentives for tesla if it decides to manufacture its cars in india et reported citing a government official last week ceo elon musk said tesla wants to launch electric vehicles evs in india but import duties are the highest in the world by far of any large country\n",
      "inox leisure denied a report that claimed amazon india is in discussions with the cinema chain to buy a stake and said the report was factually incorrect shares of inox jumped 143 but pared some gains to last trade 6 up the indian express had reported amazon india is in talks with players in film and media distribution including inox\n",
      "the international monetary fund imf cut its 2021 economic growth forecast for india by 300 basis points to 95 in its april review imf had pegged indias economic growth for the year at 125 growth prospects in india have been downgraded following the severe second covid19 wave during marchmay and expected slow recovery in confidence from that setback imf said\n",
      "hong kongs billionaire lee man tat known as the king of oyster sauce for his role as the chairman of chinese and asian sauces maker lee kum kee group passed away at 91 on monday a statement on the wechat account of infinitus a healthproducts company led by his son confirmed lees death lee had a fortune of 176 billion\n",
      "marlboro maker philip morris internationals ceo jacek olczak has said that the tobacco company will stop selling marlboro cigarettes in the uk by 2030 he said the plans were part of the companys drive to phase out cigarette smoking in the uk olczak said the marlboro brand will disappear from the uk ending an over 100year association with the country \n",
      "tata sons chairman emeritus ratan tata said that he has not been approached by anyone with regards to tata sons chairman n chandrasekarans second term any decision regarding the succession will be taken after fair and due deliberations by the board he added this comes after reports claimed that chandrasekaran was set for a second term as tata sons chief\n",
      "mos for finance pankaj chaudhary on tuesday confirmed that a french court has passed an order freezing certain indian government properties in the case pertaining to cairn energy cairn is seeking to recover 17 billion from india after winning an arbitration award in a tax dispute \n",
      "earlier reports said cairn seized 20 indian governmentowned properties in france after the order\n",
      "dr reddys laboratories expects locally manufactured sputnik v covid19 vaccine to be available from septemberoctober period the firms ceo of branded markets india and emerging markets mv ramana said local manufacturers arein the process of technology absorption and scale up he added the vaccines arrival is getting delayed due to the spike in covid19 cases in russia he said\n",
      "goldman sachs groups assetmanagement arm has filed an application with the us securities and exchange commission to offer an exchangetraded fund etf focused on securities of cryptocurrencyrelated companies the goldman sachs innovate defi and blockchain equity etf would track the solactive decentralized finance and blockchain index sec is reviewing several other bitcoin etf applications\n",
      "dumani mandela grandson of former president of south africa nelson mandela is set to auction two of his novels as nonfungible tokens nfts in august on opensea dumanis novels i dream of kemet and young and on the run from apartheid will be converted as nfts funds raised will be used for a mental health care app\n",
      "food delivery platform zomatos share price surged almost 5 to hit an alltime high of 1478 during intraday trade on tuesday its stock price has nearly doubled from the initial public offering ipo price of 76 per share brokerage firm ubs securities said zomatos share price is likely to rally 12 more and initiated a buy rating to the stock\n",
      "flipkart has challenged the karnataka high courts last weeks decision which cleared the way for the cci to probe firms like flipkart and amazon in the supreme court media reports said flipkart has filed an appeal and the matter may be heard later this week amazon could also file a similar petition in the supreme court to challenge the probe\n",
      "online beauty and lifestyle etailer nykaa has changed its status from a private company to a public limited company ahead of its planned ipo according to regulatory filings its shareholders on july 16 passed a special resolution to this effect filings show that nykaas holding company has been renamed fsn ecommerce ventures limited from fsn ecommerce ventures private limited \n",
      "active pharmaceutical ingredients api manufacturer glenmark life sciences 1514crore initial public offering ipo was fully subscribed within one hour of opening on july 27 the offer received bids for 184 crore shares against the ipo size of 15 crore shares the portion reserved for retail investors was subscribed 236 times as of 12 pm on the first day of bidding \n",
      "adani ports and special economic zone apsez has raised 750 million around 5580 crore overseas through unsecured bonds the company claimed that it has become the first infrastructure company in india to successfully raise 20 years money from international marketsthe coupon rates for the 105year and 20year dualtranches bonds were fixed at 38 and 5 respectively\n",
      "the number of wilful defaulters has increased from 2208 to 2494 as of march 31 finance minister nirmala sitharaman informed the parliament according to rbi data public sector banks psbs have effected recovery of 312987 crore in nonperforming assets npas and writtenoff loans she added banks can initiate criminal proceedings against wilful defaulters wherever necessary she said\n",
      "indigoparent interglobe aviation reported a net loss of 31742 crore for the apriljune quarter as against 28443 crore in the yearago period this was the firms sixth consecutive quarterly loss however its revenue from operations surged 292 yearonyear to 30069 crore our financial resultswere severely impacted by the second covid19 wave indigo ceo ronojoy dutta said\n",
      "esaf small finance bank has filed a draft red herring prospectus drhp with the securities and exchange board of india sebi to raise 998 crore via its initial public offering ipo the ipo comprises a fresh issue of shares worth 800 crore and offer for sale totalling 1977 crore upon successful listing esaf will join industrylisted peers like bandhan bank \n",
      "india can potentially save 8940 crore 12 billion a year by shutting down some old coalburning power plants and allowing newer ones to run for longer hours a study said india should accelerate decommissioning 30 gw of inefficient coalfired capacity and set aside 20 gw of plants as reserve the study by council on energy environment and water ceew added\n",
      "shares of dlf on tuesday rose by as much as 314 to 34450 its 52week high level on the bse this comes after the company reported a consolidated net profit of 33717 crore in the april to june quarter of this fiscal year the company had posted a net loss of 7152 crore during the same period last year\n",
      "dr reddys laboratories limiteds shares fell by over 10 to 483645 apiece on bse during intraday trade after the pharmaceuticals major declared its first quarter earnings on tuesday dr reddys and its subsidiaries reported a consolidated profit of 5708 crore in the apriljune quarter as against 5793 crore in the yearago period dr reddys profit after tax pat dropped 36 \n",
      "jeff bezos amazon founder and worlds richest person with 204billion wealth successfully travelled to space in his company blue origins first human flight the 57yearold travelled in new shepard rocket with his brother mark bezos 82yearold aviator wally funk and 18yearold paying tourist oliver daemen the flight broke the record for the youngest person and the oldest person in space\n",
      "americas 82yearold wally funk who flew to space with the worlds richest person jeff bezos on blue origins first human flight on tuesday has become the oldest person to travel to space she took a postcard bearing her picture to space before her space flight today americas john glenn was the oldest to fly to space at 77\n",
      "worlds richest man jeff bezos may not be considered an astronaut based on the new rules issued by us federal aviation administration on july 20 the same day of his space flight one of the requirements states that astronaut hopefuls must also demonstrate activities during flight that were essential to public safety or contributed to human space flight safety\n",
      "an eighteenyearold from the netherlands oliver daemen will become the youngest person to travel to space aboard blue origins spacecraft on july 20 daemen wholl accompany the worlds richest person jeff bezos to space is the son of dutch millionaire joes daemen he has a private pilots licence and will study physics and innovative management at the university of utrecht\n",
      "amazon founder and worlds richest person jeff bezos has landed after having travelled successfully to space in blue origins first human flight bezos voyage to space lasted about 10 minutes and 20 seconds the flight coincides with the anniversary of astronauts neil armstrong and edwin aldrin becoming the first humans to walk on moon\n",
      "scientists have found nearly 15000yearsold viruses in ice samples taken from the tibetan plateau in china according to a study published in the journal microbiome most of these viruses arent known to humans as they might be active on the glacier surfaces before being frozen thousands of years ago the findings may help understand how viruses have evolved over centuries\n",
      "a new species of catshark apristurus manocheriani has recently been discovered in southwest indian ocean by researchers from the pacific shark research center in the us an average male and female of the species can measure about 55cm and 49cm respectively it has numerous large teeth in the upper and lower jaw\n",
      "scientists at the university of notre dame in a study have listed india and china among the worlds top five countries most vulnerable to climate change and air pollution the study which explores the combined risks of the two aspects states that the two countries have witnessed high risks due to climate changeinduced extreme rainfall frequent cyclones and heatwaves \n",
      "a lagoon situated in the southern patagonia region of argentina has turned into bright pink in colour as per the local activists and environmentalists the reason behind the water being coloured this way is the pollution caused by sodium sulfite used to preserve the prawns there sodium sulfite is an antibacterial product used in fish factories\n",
      "a 1972 study by massachusetts institute of technology mit which said that the human society is on the verge of collapsing in the next two decades may become a reality new research has said the research says the current businessasusual trajectory of civilisation is heading towards a terminal decline of economic growth and could trigger societal collapse by around 2040\n",
      "nasa took to instagram to share a picture of jupiters unusual xray auroras it said jupiter has the most powerful auroras in the solar system and is the only one of the four giant planets with an aurora that has been found to emit xrays they are caused by ions surfing electromagnetic waves in jupiters magnetic field nasa said\n",
      "a 12yearold boy with a bright yellow tongue was diagnosed with cold agglutinin disease in canada the rare autoimmune disorder led to his immune system attacking and destroying its own red blood cells doctors suspect the boy contracted the disease due to an infection from epsteinbarr virus the boy needed a blood transfusion and also received treatment with oral steroids\n",
      "an asteroid named 2008 go20 sized about 220 metres in diameter will pass by earth on july 24 according to nasa its moving at a speed of around 29500 kmhr though the asteroid will be very close to earth it will still be 004 au astronomical unit or 5983915 km away from earth according to nasas calculations\n",
      "blue origin founder jeff bezos is offering to waive nasas payments of up to 2 billion in exchange for a lunar lander contract in a letter to nasa administrator bill nelson bezos said hes grateful to be in a financial position to be able to do so further blue origin will selffund a pathfinder mission to lowearth orbit he said\n",
      "researchers in us used a helmet that generates a magnetic field to shrink a deadly tumour in a 53yearold mans brain the patient ultimately died from an unrelated injury but an autopsy of his brain confirmed rapid response to the treatment the test marked worlds first noninvasive therapy for the deadliest of brain cancers known as glioblastoma the researchers said\n",
      "uc riverside researchers have developed pneumatic computer memory that they used to help a soft robot play a song on a piano they produced an 8bit pneumatic ram chip and incorporated it into a pair of 3dprinted rubber hands the ram uses atmosphericpressure air to represent a 0 or false value and vacuum to represent a 1 or true value\n",
      "virgin groups billionaire founder richard branson has congratulated the worlds richest person jeff bezos after he successfully completed his first spaceflight well done blue origin jeff bezos mark wally and oliver impressive very best to all the crew from me and all the team at virgin galactic branson tweeted branson had travelled to space on july 11\n",
      "spacex has been selected by nasa to provide services for earths first mission to conduct detailed investigations of jupiters moon europa nasa announced the europa clipper mission will investigate whether the icy moon has conditions suitable for life the total contract award amount for launch services is approximately 178 million\n",
      "billionaire richard bransons virgin galactic has wished the entire team of jeff bezos blue origin a successful and safe flight ahead of bezos spaceflight today commenting on a video posted by bezos regarding his crews training branson wrote best wishes to jeff bezos and the blue origin crew from all of us at virgin galactic\n",
      "worlds richest man jeff bezosowned blue origin has announced that it will be flying two more passenger spaceflight missions this year unlike the flight that carried bezos to space on july 20 future spaceflights will have six passengers the firm said jeff bezos flew to space with his brother mark bezos 82yearold wally funk and 18yearold oliver daemen\n",
      "a harvard universityled team has launched the galileo project that will seek and investigate evidence that could represent defunct or stillactive extraterrestrial technological civilizations using astronomical survey data and telescope observations new algorithms using ai will be made to identify potential interstellar travellers alienbuilt satellites and unidentified aerial phenomena\n",
      "astronomers have uncovered evidence of water vapour in the atmosphere of jupiters moon ganymede for the first time nasa said researchers looked through the last two decades of data from the hubble space telescope previous studies have shown that ganymede may have more water than earth but as it is extremely cold the water on the surface may be frozen \n",
      "an unusually large meteor briefly illuminated the night sky over southern norway on july 25 parts of which are expected to have landed near oslo it travelled at 1520 kilometressecond and lit up the sky for about fivesix seconds a norwegian meteor network official said it was accompanied by a loud rumbling sound that was heard over a large area\n",
      "the tollund man a mummified corpse that was found in denmark in 1950 had barley porridge as his last meal 2400 years ago researchers including those from aarhus university found the porridge also contained flax and seeds and a small amount of fish researchers also suggested that the tollund man might have been the victim of a human sacrifice ritual \n",
      "a 150millionyearold fossilised skeleton discovered in chile in 2014 belongs to the ancestor of the modern crocodile the species has been named burkesuchus mallingrandensis about 200 million years ago crocodiles were smaller and did not live in water and the fossils will help understand how these reptiles went from being terrestrial to aquatic a researcher said\n",
      "londonbased brand nothing launched true wireless buds ear 1 today promising iconic transparent design and premium user experience it delivers pure sound with stateoftheart active noise cancellation playtime up to 34 hours and 116mm driver nothing said it marries advanced technology precise engineering and groundbreaking design at unbelievable price ceo carl pei said\n",
      "oneplus has announced various deals on their entire product ecosystem as part of a weeklong sale comprising of the wishlist sale on oneplusin and prime day 2021 on amazonin offers will include up to 4000 discount and 7000 exchange offer on oneplus 9 series 1000 discount on nord 2 5g and up to 2000 discount on oneplus tv u1s\n",
      "toyotas cue robot shot perfect free throws during halftime of the united states mens basketball loss to france at the tokyo olympics while the 6foot10inch robot can make perfect throws it cant dribble or jump the basketball robots cue3 version holds the guinness world record for the most consecutive basketball free throws by a humanoid robot assisted with 2020 throws\n",
      "amazon on monday denied speculations that it was looking to accept bitcoin and other cryptocurrencies as a form of payment by the end of the year saying those speculations are not true the speculations regarding the same were fuelled by an amazon job posting seeking a digital currency and blockchain product lead bitcoin soared past 40000 briefly over the speculations\n",
      "facebook messenger and facebookowned instagram on tuesday announced the platforms will now only allow advertisers to target ads to people under 18 or older in certain countries based on their age gender and location until now ad targeting to this age group was allowed on the basis of their interests or their activity on other apps and websites\n",
      "ola ceo bhavish aggarwal said he strongly disagrees with tesla and hyundais call for lower duties in india on imported electric vehicles evs lets have confidence in our ability to build indigenously aggarwal tweeted he was responding to a tweet saying hyundai motor indias md ss kim has backed teslas call and said lower duties will help grow ev market\n",
      "the hindus former editor n ram and asianet founder sashi kumar have asked the supreme court to order the centre to reveal whether it used pegasus spyware directly or indirectly to carry out surveillance they also filed a petition seeking a courtordered investigation into the reports of surveillance earlier reports said over 40 indian journalists were among potential pegasus targets \n",
      "tesla ceo and the worlds secondrichest person elon musk during his companys secondquarter earnings call on monday said i will no longer default to doing earnings call he added obviously ill do the annual shareholder meeting but i think that going forward ill most likely not be on earnings calls unless theres something really important that i need to say\n",
      "congress mp shashi tharoor said the parliamentary panel on information technology will question government officials on allegations that indian politicians journalists were targeted using pegasus spyware he asserted that it is the most important issue for many members of the committee parliament is not functioning because of this issue people are anxious to find out about this he added\n",
      "teslas billionaire ceo elon musk criticised apple twice during an earnings call that took place on monday in a reference to apple musk said teslas goal is to support sustainable energy not to create a walled garden used by some companies to bludgeon competitors he also explained that while apple uses almost 100 cobalt in batteries tesla uses much lesser\n",
      "researchers in us used a helmet that generates a magnetic field to shrink a deadly tumour in a 53yearold mans brain the patient ultimately died from an unrelated injury but an autopsy of his brain confirmed rapid response to the treatment the test marked worlds first noninvasive therapy for the deadliest of brain cancers known as glioblastoma the researchers said\n",
      "a canadian animal health technology company has developed an app that can tell whether a cat is feeling pain by using a smartphones camera the app known as tably looks at a cats ear and head position eyenarrowing muzzle tension and how whiskers change to detect distress the app was trained using machine learning and a series of images\n",
      "indianas department of transport is testing a new type of cement with embedded magnetised particles that can wirelessly charge electric vehicles as they drive the cement will be tested in a lab in first two phases and then a quartermilelong road for testing will be constructed after finishing the tests a segment of interstate highway within indiana will be electrified\n",
      "the us justice department is probing whether executives behind the cryptocurrency stablecoin tether committed bank fraud during the nascent stages of its business bloomberg reported prosecutors are examining whether tether concealed from banks that transactions were linked to cryptocurrency tether said it routinely has an open dialogue with law enforcement agencies for transparency\n",
      "nearly a thousand employees have condemned activision blizzards response to a lawsuit against it over sexual harassment and discrimination and called it abhorrent and insulting media reports said to claim this is a truly meritless and irresponsible lawsuit while seeing so manyemployees speak out about theirexperiencesis simply unacceptable a letter from staff reportedly read\n",
      "dumani mandela grandson of former president of south africa nelson mandela is set to auction two of his novels as nonfungible tokens nfts in august on opensea dumanis novels i dream of kemet and young and on the run from apartheid will be converted as nfts funds raised will be used for a mental health care app\n",
      "pune municipal corporations general body cojointly gave a goahead to the ebike renting project along with setting up of 2000 ev charging points and 3000 ev battery swapping points at 500 locations across pune city  the venture has been approved under the green pune initiative wherein vtro motors will be taking charge of all the costs incurred for this project\n",
      "chinas industry ministry has launched a sixmonth campaign to clean up the tough problems with internet apps including disturbing market order infringing users rights threatening data security and unauthorised internet connections the campaign will target 22 specific scenarios including apps that do not allow users to opt out of personalisation or use popups to mislead or deceive users\n",
      "tencentowned wechat has temporarily suspended new users registration in mainland china as it undergoes a technical upgrade to align with relevant laws and regulations registration services will be restored after the upgrade is complete which is expected in early august it said wechat has reportedly amassed over 12 billion monthly active users in china as of earlier this year\n",
      "goldman sachs groups assetmanagement arm has filed an application with the us securities and exchange commission to offer an exchangetraded fund etf focused on securities of cryptocurrencyrelated companies the goldman sachs innovate defi and blockchain equity etf would track the solactive decentralized finance and blockchain index sec is reviewing several other bitcoin etf applications\n",
      "russian internet regulator roskomnadzor has blocked 49 websites linked to president vladimir putins jailed critic alexey navalny including his personal website roskomnadzor said it blocked the websites at the request of the prosecutor general it also said the websites were being used for propaganda of extremist groups\n",
      "a us judge has ordered a man accused of participating in the us capitol riots on january 6 to unlock his laptop this comes after prosecutors argued that the laptop likely contained footage of the attack the judge granted them permission to place guy reffitt in front of his laptop so they could use facial recognition to unlock the device\n",
      "linkedin has been blocked in kazakhstan over fake accounts and online casino advertisements the countrys ministry of information and social development said on tuesday according to the ministry linkedin was asked to remove the items in question but it has failed to comply access will be restored to the social networking platform once it addresses those complaints the ministry said\n",
      "bengaluru has been ranked eighth in the top 10 cities seen as leading technology innovation hubs over the next four years outside of silicon valley in us san francisco according to a report by professional services firm kpmg according to the report titled technology innovation hubs covid19 has accelerated new ways of working but the hubs are here to stay\n",
      "a trader from gujarat has filed a complaint with mumbai crime branch and cyber police alleging he has been cheated of 3 lakh by businessman raj kundras firm the trader said kundras firm cheated him on the pretext of making him distributor for an online cricket skillbased game he also alleged that many people were cheated of crores like him\n",
      "modelactor milind somans wife ankita konwar took to social media and talked about racism in india ankita who hails from assam wrote in an instagram post if youre from northeast india you can become an indian only when you win a medal for the country otherwise we are known as chy chinese nepali or a new addition corona she added \n",
      "a mumbai crime branch official has said that actress shilpa shetty hasnt been given a clean chit yet in the porn videos case in which her husband raj kundra has been arrested all possibilities and angles are being probed forensic auditors are appointed and they are looking into the transactions of all accounts in this case the official added \n",
      "flora saini who played the titular character in stree commented on her name appearing in purported whatsapp chats between raj kundra and his aide ive never interacted with kundraif two people discuss my namethat doesnt mean iminvolved with what was being discussed she told etimes in the chat they discussed if they could rope in flora for a song\n",
      "james gunns the suicide squad starring margot robbie and john cena is all set to hit indian theatres on august 5 warner bros india has announced in addition to robbie and cena itll also feature idris elba and joel kinnaman warner bros india also announced the release date of mortal kombat and the conjuring the devil made me do it \n",
      "shefali shah while speaking about her international emmy awardwinning series delhi crime said it changed everything for me with delhi crime they filmmakers realised they can put an entire show or a film on my shoulders or i can be the parallel lead shefali said adding they got the confidence that im not just somebody who needs to be inbackground \n",
      "in his latest instagram post arjun kapoor shared the before and after pictures of his body transformation and called himself a work in progress he wrote i love every chapter of my lifei have always been myself at every step of the wayim a work in progressmy mother told me every stage of your life is a journey \n",
      "\n",
      "south indian actress parul yadav spoke about the time when she got infected with covid19 she said my covid19 was really bad as i had all the symptomsand i had 103 fever for 12 days i remember writing an email which i sent to my dear onessaying if i die my property should be divided between my sisters she added\n",
      "taking to his instagram story singer aditya narayan denied the reports of him participating in bigg boss 15 aditya said he doesnt have the time nor the inclination to participate he wrote contrary to speculation im not going to be a contestant on the upcoming season of bigg bossalways happy to guest feature would even love to host it someday\n",
      "filmmaker ali abbas zafar while speaking about his journey in the film industry said the journey has been full of learning and experiences aditya chopra sir and salman khan have been two pillars of my career they have been very helpful he added ali worked with salman in sultan and tiger zinda hai both the films were produced by aditya  \n",
      "filmmaker aditya vikram senguptas once upon a time in calcutta will premiere at the 78th venice international film festival the film will be screened in the orizzonti horizons section venice is a dream festival for any filmmaker and were extremely gratefulto be back with a bengali film about the city especially on birth centenary of satyajit ray sengupta said\n",
      "reacting to rumours about a tiff between the cast of the show taarak mehta ka ooltah chashmah actor dilip joshi said we are a great team which is why the show is doing so well just because someone wants to write something to grab eyeballs on social media they cook up a story he added\n",
      "marathi actor umesh kamat has issued a statement saying that he has decided to take legal action against some media platforms and news channels for falsely associating him with raj kundra porn videos case he said this irresponsible action has caused tremendous humiliationand agony to him and his family earlier mumbai police had arrested kundras former employee umesh kamat\n",
      "actor atul kulkarni will share screen space with actor ajay devgn in the upcoming series titled rudra  the edge of darkness reportedly the series is set to be shot across mumbai and will also star esha deol its a gripping series that willdisrupt the genre of cop dramas in indiai cant wait to begin filming this one atul said\n",
      "\n",
      "television actress shweta tiwari has been roped in to play a cbi officer in the upcoming suspensethriller show named shukla vs tripathi i play a nononsense cbi officer ridhima lakha who cannot be swayed or bribed  as we begin this journey i just wish for love and support from my fans shweta said about the new project\n",
      "veteran actress savita bajaj who is unwell and is facing a financial crisis received monetary help from actors ayushmann khurrana and jackie shroff meanwhile actor sonu sood donated an oxygen concentrator she was hospitalised after she complained of breathlessness the actress has been diagnosed with emphysema a lung disease that causes shortness of breath \n",
      "actor shoaib ibrahim took to instagram stories to share a health update about his father who suffered a brain stroke recently in a video message he said after brain stroke the next 72 hours are extremely critical as one can get strokeagain however he added that his fathers veins havent suffered much and doctors have asked them not to worry \n",
      "actress shweta tiwaris exhusband actor raja chaudhary said that he wants to revive his acting career and live in mumbai so that he can be close to his daughter palak tiwari he added the meeting with palak made me realise how hungry im for my daughters love iwant her in my life and soi decidedill now stay in mumbai\n",
      "a liveaction pokemon web series is currently in the early development stage at the streaming platform netflix variety reported while the ott platform has not shared any details about the plotline of the upcoming series according to the reports lucifer creator joe henderson is attached to write and executive produce the project\n",
      "bigg boss 14 contestant jaan kumar sanu spoke about not being invited to rahul vaidya and disha parmars wedding jaan said that he wouldnt have attended the wedding even if he was invited he added i dont think i would have gone because there arenumber of things that have gone south with us so i wish hima happy married life\n",
      "actor adil hussain feels that bollywood should rope in an actor from the northeast whenever they plan a biopic on olympic medalist mirabai chanu unlike mary kom which starred priyanka chopra jonas instead of an actor from manipur if someone makes a movie on mirabai chanu im sure theyd be more imaginative and cast someone from the northeast he said \n",
      "actress kubbra sait who celebrates her birthday on july 27 spoke about making her international debut with the show foundation she said its incredible when you get something based on pure merit and not entirely crediting it to luck when i saw myself in the teaser iwent like im here it kind of sealed the deal for me she added\n",
      "filmmaker farah khan praised former indian captain ms dhoni after working with him on an advertisement shoot directed dhoni for an advertisement today what an amazing guy so punctual and so down to earth he took pictures with everyone from clients to spot boys with a smile im a fan now she wrote on instagram alongside her picture with dhoni\n",
      "tara sutaria who made her bollywood debut with tiger shroffstarrer student of the year 2 spoke about her equation with the actor and said i must sayamong all my costars imclosest to tiger i did my first film with him and hes also the first friend i made inindustry said tara wholl reunite with tiger for ahmed khans heropanti 2 \n",
      "actor arya whose tamillanguage sports action film sarpatta parambarai released earlier this month said he wants to work with actor shah rukh khan i love shah rukh khan and if given a chance i will work with him i would also love to collaborate with bollywood actors likeaamir khan and salman khan he added\n",
      "\n",
      "\n",
      "relianc industri ha said in a statement that over 98 of it worker have receiv at least one dose of covid19 vaccin so far the billionair mukesh ambanil conglomer had over 236 lakh employe of march 31 besid relianc hindustan unilev ha also given at least one shot to 90 of employe while infosi inocul 59 employe and tc 70\n",
      "tesla billionair ceo elon musk criticis appl twice dure an earn call that took place on monday in a refer to appl musk said tesla goal is to support sustain energi not to creat a wall garden use by some compani to bludgeon competitor he also explain that while appl use almost 100 cobalt in batteri tesla use much lesser\n",
      "tesla ceo and the world secondrichest person elon musk dure hi compani secondquart earn call on monday said i will no longer default to do earn call he ad obvious ill do the annual sharehold meet but i think that go forward ill most like not be on earn call unless there someth realli import that i need to say\n",
      "amazon on monday deni specul that it wa look to accept bitcoin and other cryptocurr as a form of payment by the end of the year say those specul are not true the specul regard the same were fuell by an amazon job post seek a digit currenc and blockchain product lead bitcoin soar past 40000 briefli over the specul\n",
      "the govern is open to consid reduc import duti and offer incent for tesla if it decid to manufactur it car in india et report cite a govern offici last week ceo elon musk said tesla want to launch electr vehicl ev in india but import duti are the highest in the world by far of ani larg countri\n",
      "inox leisur deni a report that claim amazon india is in discuss with the cinema chain to buy a stake and said the report wa factual incorrect share of inox jump 143 but pare some gain to last trade 6 up the indian express had report amazon india is in talk with player in film and media distribut includ inox\n",
      "the intern monetari fund imf cut it 2021 econom growth forecast for india by 300 basi point to 95 in it april review imf had peg india econom growth for the year at 125 growth prospect in india have been downgrad follow the sever second covid19 wave dure marchmay and expect slow recoveri in confid from that setback imf said\n",
      "hong kong billionair lee man tat known as the king of oyster sauc for hi role as the chairman of chines and asian sauc maker lee kum kee group pass away at 91 on monday a statement on the wechat account of infinitu a healthproduct compani led by hi son confirm lee death lee had a fortun of 176 billion\n",
      "marlboro maker philip morri intern ceo jacek olczak ha said that the tobacco compani will stop sell marlboro cigarett in the uk by 2030 he said the plan were part of the compani drive to phase out cigarett smoke in the uk olczak said the marlboro brand will disappear from the uk end an over 100year associ with the countri\n",
      "tata son chairman emeritu ratan tata said that he ha not been approach by anyon with regard to tata son chairman n chandrasekaran second term ani decis regard the success will be taken after fair and due deliber by the board he ad thi come after report claim that chandrasekaran wa set for a second term as tata son chief\n",
      "mo for financ pankaj chaudhari on tuesday confirm that a french court ha pass an order freez certain indian govern properti in the case pertain to cairn energi cairn is seek to recov 17 billion from india after win an arbitr award in a tax disput earlier report said cairn seiz 20 indian governmentown properti in franc after the order\n",
      "dr reddi laboratori expect local manufactur sputnik v covid19 vaccin to be avail from septemberoctob period the firm ceo of brand market india and emerg market mv ramana said local manufactur arein the process of technolog absorpt and scale up he ad the vaccin arriv is get delay due to the spike in covid19 case in russia he said\n",
      "goldman sach group assetmanag arm ha file an applic with the us secur and exchang commiss to offer an exchangetrad fund etf focus on secur of cryptocurrencyrel compani the goldman sach innov defi and blockchain equiti etf would track the solact decentr financ and blockchain index sec is review sever other bitcoin etf applic\n",
      "dumani mandela grandson of former presid of south africa nelson mandela is set to auction two of hi novel as nonfung token nft in august on opensea dumani novel i dream of kemet and young and on the run from apartheid will be convert as nft fund rais will be use for a mental health care app\n",
      "food deliveri platform zomato share price surg almost 5 to hit an alltim high of 1478 dure intraday trade on tuesday it stock price ha nearli doubl from the initi public offer ipo price of 76 per share brokerag firm ub secur said zomato share price is like to ralli 12 more and initi a buy rate to the stock\n",
      "flipkart ha challeng the karnataka high court last week decis which clear the way for the cci to probe firm like flipkart and amazon in the suprem court media report said flipkart ha file an appeal and the matter may be heard later thi week amazon could also file a similar petit in the suprem court to challeng the probe\n",
      "onlin beauti and lifestyl etail nykaa ha chang it statu from a privat compani to a public limit compani ahead of it plan ipo accord to regulatori file it sharehold on juli 16 pass a special resolut to thi effect file show that nykaa hold compani ha been renam fsn ecommerc ventur limit from fsn ecommerc ventur privat limit\n",
      "activ pharmaceut ingredi api manufactur glenmark life scienc 1514crore initi public offer ipo wa fulli subscrib within one hour of open on juli 27 the offer receiv bid for 184 crore share against the ipo size of 15 crore share the portion reserv for retail investor wa subscrib 236 time as of 12 pm on the first day of bid\n",
      "adani port and special econom zone apsez ha rais 750 million around 5580 crore oversea through unsecur bond the compani claim that it ha becom the first infrastructur compani in india to success rais 20 year money from intern marketsth coupon rate for the 105year and 20year dualtranch bond were fix at 38 and 5 respect\n",
      "the number of wil default ha increas from 2208 to 2494 as of march 31 financ minist nirmala sitharaman inform the parliament accord to rbi data public sector bank psb have effect recoveri of 312987 crore in nonperform asset npa and writtenoff loan she ad bank can initi crimin proceed against wil default wherev necessari she said\n",
      "indigopar interglob aviat report a net loss of 31742 crore for the apriljun quarter as against 28443 crore in the yearago period thi wa the firm sixth consecut quarterli loss howev it revenu from oper surg 292 yearonyear to 30069 crore our financi resultswer sever impact by the second covid19 wave indigo ceo ronojoy dutta said\n",
      "esaf small financ bank ha file a draft red her prospectu drhp with the secur and exchang board of india sebi to rais 998 crore via it initi public offer ipo the ipo compris a fresh issu of share worth 800 crore and offer for sale total 1977 crore upon success list esaf will join industrylist peer like bandhan bank\n",
      "india can potenti save 8940 crore 12 billion a year by shut down some old coalburn power plant and allow newer one to run for longer hour a studi said india should acceler decommiss 30 gw of ineffici coalfir capac and set asid 20 gw of plant as reserv the studi by council on energi environ and water ceew ad\n",
      "share of dlf on tuesday rose by as much as 314 to 34450 it 52week high level on the bse thi come after the compani report a consolid net profit of 33717 crore in the april to june quarter of thi fiscal year the compani had post a net loss of 7152 crore dure the same period last year\n",
      "dr reddi laboratori limit share fell by over 10 to 483645 apiec on bse dure intraday trade after the pharmaceut major declar it first quarter earn on tuesday dr reddi and it subsidiari report a consolid profit of 5708 crore in the apriljun quarter as against 5793 crore in the yearago period dr reddi profit after tax pat drop 36\n",
      "jeff bezo amazon founder and world richest person with 204billion wealth success travel to space in hi compani blue origin first human flight the 57yearold travel in new shepard rocket with hi brother mark bezo 82yearold aviat walli funk and 18yearold pay tourist oliv daemen the flight broke the record for the youngest person and the oldest person in space\n",
      "america 82yearold walli funk who flew to space with the world richest person jeff bezo on blue origin first human flight on tuesday ha becom the oldest person to travel to space she took a postcard bear her pictur to space befor her space flight today america john glenn wa the oldest to fli to space at 77\n",
      "world richest man jeff bezo may not be consid an astronaut base on the new rule issu by us feder aviat administr on juli 20 the same day of hi space flight one of the requir state that astronaut hope must also demonstr activ dure flight that were essenti to public safeti or contribut to human space flight safeti\n",
      "an eighteenyearold from the netherland oliv daemen will becom the youngest person to travel to space aboard blue origin spacecraft on juli 20 daemen wholl accompani the world richest person jeff bezo to space is the son of dutch millionair joe daemen he ha a privat pilot licenc and will studi physic and innov manag at the univers of utrecht\n",
      "amazon founder and world richest person jeff bezo ha land after have travel success to space in blue origin first human flight bezo voyag to space last about 10 minut and 20 second the flight coincid with the anniversari of astronaut neil armstrong and edwin aldrin becom the first human to walk on moon\n",
      "scientist have found nearli 15000yearsold virus in ice sampl taken from the tibetan plateau in china accord to a studi publish in the journal microbiom most of these virus arent known to human as they might be activ on the glacier surfac befor be frozen thousand of year ago the find may help understand how virus have evolv over centuri\n",
      "a new speci of catshark apristuru manocheriani ha recent been discov in southwest indian ocean by research from the pacif shark research center in the us an averag male and femal of the speci can measur about 55cm and 49cm respect it ha numer larg teeth in the upper and lower jaw\n",
      "scientist at the univers of notr dame in a studi have list india and china among the world top five countri most vulner to climat chang and air pollut the studi which explor the combin risk of the two aspect state that the two countri have wit high risk due to climat changeinduc extrem rainfal frequent cyclon and heatwav\n",
      "a lagoon situat in the southern patagonia region of argentina ha turn into bright pink in colour as per the local activist and environmentalist the reason behind the water be colour thi way is the pollut caus by sodium sulfit use to preserv the prawn there sodium sulfit is an antibacteri product use in fish factori\n",
      "a 1972 studi by massachusett institut of technolog mit which said that the human societi is on the verg of collaps in the next two decad may becom a realiti new research ha said the research say the current businessasusu trajectori of civilis is head toward a termin declin of econom growth and could trigger societ collaps by around 2040\n",
      "nasa took to instagram to share a pictur of jupit unusu xray aurora it said jupit ha the most power aurora in the solar system and is the onli one of the four giant planet with an aurora that ha been found to emit xray they are caus by ion surf electromagnet wave in jupit magnet field nasa said\n",
      "a 12yearold boy with a bright yellow tongu wa diagnos with cold agglutinin diseas in canada the rare autoimmun disord led to hi immun system attack and destroy it own red blood cell doctor suspect the boy contract the diseas due to an infect from epsteinbarr viru the boy need a blood transfus and also receiv treatment with oral steroid\n",
      "an asteroid name 2008 go20 size about 220 metr in diamet will pass by earth on juli 24 accord to nasa it move at a speed of around 29500 kmhr though the asteroid will be veri close to earth it will still be 004 au astronom unit or 5983915 km away from earth accord to nasa calcul\n",
      "blue origin founder jeff bezo is offer to waiv nasa payment of up to 2 billion in exchang for a lunar lander contract in a letter to nasa administr bill nelson bezo said he grate to be in a financi posit to be abl to do so further blue origin will selffund a pathfind mission to lowearth orbit he said\n",
      "research in us use a helmet that gener a magnet field to shrink a deadli tumour in a 53yearold man brain the patient ultim die from an unrel injuri but an autopsi of hi brain confirm rapid respons to the treatment the test mark world first noninvas therapi for the deadliest of brain cancer known as glioblastoma the research said\n",
      "uc riversid research have develop pneumat comput memori that they use to help a soft robot play a song on a piano they produc an 8bit pneumat ram chip and incorpor it into a pair of 3dprint rubber hand the ram use atmosphericpressur air to repres a 0 or fals valu and vacuum to repres a 1 or true valu\n",
      "virgin group billionair founder richard branson ha congratul the world richest person jeff bezo after he success complet hi first spaceflight well done blue origin jeff bezo mark walli and oliv impress veri best to all the crew from me and all the team at virgin galact branson tweet branson had travel to space on juli 11\n",
      "spacex ha been select by nasa to provid servic for earth first mission to conduct detail investig of jupit moon europa nasa announc the europa clipper mission will investig whether the ici moon ha condit suitabl for life the total contract award amount for launch servic is approxim 178 million\n",
      "billionair richard branson virgin galact ha wish the entir team of jeff bezo blue origin a success and safe flight ahead of bezo spaceflight today comment on a video post by bezo regard hi crew train branson wrote best wish to jeff bezo and the blue origin crew from all of us at virgin galact\n",
      "world richest man jeff bezosown blue origin ha announc that it will be fli two more passeng spaceflight mission thi year unlik the flight that carri bezo to space on juli 20 futur spaceflight will have six passeng the firm said jeff bezo flew to space with hi brother mark bezo 82yearold walli funk and 18yearold oliv daemen\n",
      "a harvard universityl team ha launch the galileo project that will seek and investig evid that could repres defunct or stillact extraterrestri technolog civil use astronom survey data and telescop observ new algorithm use ai will be made to identifi potenti interstellar travel alienbuilt satellit and unidentifi aerial phenomena\n",
      "astronom have uncov evid of water vapour in the atmospher of jupit moon ganymed for the first time nasa said research look through the last two decad of data from the hubbl space telescop previou studi have shown that ganymed may have more water than earth but as it is extrem cold the water on the surfac may be frozen\n",
      "an unusu larg meteor briefli illumin the night sky over southern norway on juli 25 part of which are expect to have land near oslo it travel at 1520 kilometressecond and lit up the sky for about fivesix second a norwegian meteor network offici said it wa accompani by a loud rumbl sound that wa heard over a larg area\n",
      "the tollund man a mummifi corps that wa found in denmark in 1950 had barley porridg as hi last meal 2400 year ago research includ those from aarhu univers found the porridg also contain flax and seed and a small amount of fish research also suggest that the tollund man might have been the victim of a human sacrific ritual\n",
      "a 150millionyearold fossilis skeleton discov in chile in 2014 belong to the ancestor of the modern crocodil the speci ha been name burkesuchu mallingrandensi about 200 million year ago crocodil were smaller and did not live in water and the fossil will help understand how these reptil went from be terrestri to aquat a research said\n",
      "londonbas brand noth launch true wireless bud ear 1 today promis icon transpar design and premium user experi it deliv pure sound with stateoftheart activ nois cancel playtim up to 34 hour and 116mm driver noth said it marri advanc technolog precis engin and groundbreak design at unbeliev price ceo carl pei said\n",
      "oneplu ha announc variou deal on their entir product ecosystem as part of a weeklong sale compris of the wishlist sale on oneplusin and prime day 2021 on amazonin offer will includ up to 4000 discount and 7000 exchang offer on oneplu 9 seri 1000 discount on nord 2 5g and up to 2000 discount on oneplu tv u1\n",
      "toyota cue robot shot perfect free throw dure halftim of the unit state men basketbal loss to franc at the tokyo olymp while the 6foot10inch robot can make perfect throw it cant dribbl or jump the basketbal robot cue3 version hold the guin world record for the most consecut basketbal free throw by a humanoid robot assist with 2020 throw\n",
      "amazon on monday deni specul that it wa look to accept bitcoin and other cryptocurr as a form of payment by the end of the year say those specul are not true the specul regard the same were fuell by an amazon job post seek a digit currenc and blockchain product lead bitcoin soar past 40000 briefli over the specul\n",
      "facebook messeng and facebookown instagram on tuesday announc the platform will now onli allow advertis to target ad to peopl under 18 or older in certain countri base on their age gender and locat until now ad target to thi age group wa allow on the basi of their interest or their activ on other app and websit\n",
      "ola ceo bhavish aggarw said he strongli disagre with tesla and hyundai call for lower duti in india on import electr vehicl ev let have confid in our abil to build indigen aggarw tweet he wa respond to a tweet say hyundai motor india md ss kim ha back tesla call and said lower duti will help grow ev market\n",
      "the hindu former editor n ram and asianet founder sashi kumar have ask the suprem court to order the centr to reveal whether it use pegasu spywar directli or indirectli to carri out surveil they also file a petit seek a courtord investig into the report of surveil earlier report said over 40 indian journalist were among potenti pegasu target\n",
      "tesla ceo and the world secondrichest person elon musk dure hi compani secondquart earn call on monday said i will no longer default to do earn call he ad obvious ill do the annual sharehold meet but i think that go forward ill most like not be on earn call unless there someth realli import that i need to say\n",
      "congress mp shashi tharoor said the parliamentari panel on inform technolog will question govern offici on alleg that indian politician journalist were target use pegasu spywar he assert that it is the most import issu for mani member of the committe parliament is not function becaus of thi issu peopl are anxiou to find out about thi he ad\n",
      "tesla billionair ceo elon musk criticis appl twice dure an earn call that took place on monday in a refer to appl musk said tesla goal is to support sustain energi not to creat a wall garden use by some compani to bludgeon competitor he also explain that while appl use almost 100 cobalt in batteri tesla use much lesser\n",
      "research in us use a helmet that gener a magnet field to shrink a deadli tumour in a 53yearold man brain the patient ultim die from an unrel injuri but an autopsi of hi brain confirm rapid respons to the treatment the test mark world first noninvas therapi for the deadliest of brain cancer known as glioblastoma the research said\n",
      "a canadian anim health technolog compani ha develop an app that can tell whether a cat is feel pain by use a smartphon camera the app known as tabli look at a cat ear and head posit eyenarrow muzzl tension and how whisker chang to detect distress the app wa train use machin learn and a seri of imag\n",
      "indiana depart of transport is test a new type of cement with embed magnetis particl that can wirelessli charg electr vehicl as they drive the cement will be test in a lab in first two phase and then a quartermilelong road for test will be construct after finish the test a segment of interst highway within indiana will be electrifi\n",
      "the us justic depart is probe whether execut behind the cryptocurr stablecoin tether commit bank fraud dure the nascent stage of it busi bloomberg report prosecutor are examin whether tether conceal from bank that transact were link to cryptocurr tether said it routin ha an open dialogu with law enforc agenc for transpar\n",
      "nearli a thousand employe have condemn activis blizzard respons to a lawsuit against it over sexual harass and discrimin and call it abhorr and insult media report said to claim thi is a truli meritless and irrespons lawsuit while see so manyemploye speak out about theirexperiencesi simpli unaccept a letter from staff reportedli read\n",
      "dumani mandela grandson of former presid of south africa nelson mandela is set to auction two of hi novel as nonfung token nft in august on opensea dumani novel i dream of kemet and young and on the run from apartheid will be convert as nft fund rais will be use for a mental health care app\n",
      "pune municip corpor gener bodi cojointli gave a goahead to the ebik rent project along with set up of 2000 ev charg point and 3000 ev batteri swap point at 500 locat across pune citi the ventur ha been approv under the green pune initi wherein vtro motor will be take charg of all the cost incur for thi project\n",
      "china industri ministri ha launch a sixmonth campaign to clean up the tough problem with internet app includ disturb market order infring user right threaten data secur and unauthoris internet connect the campaign will target 22 specif scenario includ app that do not allow user to opt out of personalis or use popup to mislead or deceiv user\n",
      "tencentown wechat ha temporarili suspend new user registr in mainland china as it undergo a technic upgrad to align with relev law and regul registr servic will be restor after the upgrad is complet which is expect in earli august it said wechat ha reportedli amass over 12 billion monthli activ user in china as of earlier thi year\n",
      "goldman sach group assetmanag arm ha file an applic with the us secur and exchang commiss to offer an exchangetrad fund etf focus on secur of cryptocurrencyrel compani the goldman sach innov defi and blockchain equiti etf would track the solact decentr financ and blockchain index sec is review sever other bitcoin etf applic\n",
      "russian internet regul roskomnadzor ha block 49 websit link to presid vladimir putin jail critic alexey navalni includ hi person websit roskomnadzor said it block the websit at the request of the prosecutor gener it also said the websit were be use for propaganda of extremist group\n",
      "a us judg ha order a man accus of particip in the us capitol riot on januari 6 to unlock hi laptop thi come after prosecutor argu that the laptop like contain footag of the attack the judg grant them permiss to place guy reffitt in front of hi laptop so they could use facial recognit to unlock the devic\n",
      "linkedin ha been block in kazakhstan over fake account and onlin casino advertis the countri ministri of inform and social develop said on tuesday accord to the ministri linkedin wa ask to remov the item in question but it ha fail to compli access will be restor to the social network platform onc it address those complaint the ministri said\n",
      "bengaluru ha been rank eighth in the top 10 citi seen as lead technolog innov hub over the next four year outsid of silicon valley in us san francisco accord to a report by profession servic firm kpmg accord to the report titl technolog innov hub covid19 ha acceler new way of work but the hub are here to stay\n",
      "a trader from gujarat ha file a complaint with mumbai crime branch and cyber polic alleg he ha been cheat of 3 lakh by businessman raj kundra firm the trader said kundra firm cheat him on the pretext of make him distributor for an onlin cricket skillbas game he also alleg that mani peopl were cheat of crore like him\n",
      "modelactor milind soman wife ankita konwar took to social media and talk about racism in india ankita who hail from assam wrote in an instagram post if your from northeast india you can becom an indian onli when you win a medal for the countri otherwis we are known as chi chines nepali or a new addit corona she ad\n",
      "a mumbai crime branch offici ha said that actress shilpa shetti hasnt been given a clean chit yet in the porn video case in which her husband raj kundra ha been arrest all possibl and angl are be probe forens auditor are appoint and they are look into the transact of all account in thi case the offici ad\n",
      "flora saini who play the titular charact in stree comment on her name appear in purport whatsapp chat between raj kundra and hi aid ive never interact with kundraif two peopl discuss my namethat doesnt mean iminvolv with what wa be discuss she told etim in the chat they discuss if they could rope in flora for a song\n",
      "jame gunn the suicid squad star margot robbi and john cena is all set to hit indian theatr on august 5 warner bro india ha announc in addit to robbi and cena itll also featur idri elba and joel kinnaman warner bro india also announc the releas date of mortal kombat and the conjur the devil made me do it\n",
      "shefali shah while speak about her intern emmi awardwin seri delhi crime said it chang everyth for me with delhi crime they filmmak realis they can put an entir show or a film on my shoulder or i can be the parallel lead shefali said ad they got the confid that im not just somebodi who need to be inbackground\n",
      "in hi latest instagram post arjun kapoor share the befor and after pictur of hi bodi transform and call himself a work in progress he wrote i love everi chapter of my lifei have alway been myself at everi step of the wayim a work in progressmi mother told me everi stage of your life is a journey\n",
      "south indian actress parul yadav spoke about the time when she got infect with covid19 she said my covid19 wa realli bad as i had all the symptomsand i had 103 fever for 12 day i rememb write an email which i sent to my dear onessay if i die my properti should be divid between my sister she ad\n",
      "take to hi instagram stori singer aditya narayan deni the report of him particip in bigg boss 15 aditya said he doesnt have the time nor the inclin to particip he wrote contrari to specul im not go to be a contest on the upcom season of bigg bossalway happi to guest featur would even love to host it someday\n",
      "filmmak ali abba zafar while speak about hi journey in the film industri said the journey ha been full of learn and experi aditya chopra sir and salman khan have been two pillar of my career they have been veri help he ad ali work with salman in sultan and tiger zinda hai both the film were produc by aditya\n",
      "filmmak aditya vikram sengupta onc upon a time in calcutta will premier at the 78th venic intern film festiv the film will be screen in the orizzonti horizon section venic is a dream festiv for ani filmmak and were extrem gratefulto be back with a bengali film about the citi especi on birth centenari of satyajit ray sengupta said\n",
      "react to rumour about a tiff between the cast of the show taarak mehta ka ooltah chashmah actor dilip joshi said we are a great team which is whi the show is do so well just becaus someon want to write someth to grab eyebal on social media they cook up a stori he ad\n",
      "marathi actor umesh kamat ha issu a statement say that he ha decid to take legal action against some media platform and news channel for fals associ him with raj kundra porn video case he said thi irrespons action ha caus tremend humiliationand agoni to him and hi famili earlier mumbai polic had arrest kundra former employe umesh kamat\n",
      "actor atul kulkarni will share screen space with actor ajay devgn in the upcom seri titl rudra the edg of dark reportedli the seri is set to be shot across mumbai and will also star esha deol it a grip seri that willdisrupt the genr of cop drama in indiai cant wait to begin film thi one atul said\n",
      "televis actress shweta tiwari ha been rope in to play a cbi offic in the upcom suspensethril show name shukla vs tripathi i play a nononsens cbi offic ridhima lakha who cannot be sway or bribe as we begin thi journey i just wish for love and support from my fan shweta said about the new project\n",
      "veteran actress savita bajaj who is unwel and is face a financi crisi receiv monetari help from actor ayushmann khurrana and jacki shroff meanwhil actor sonu sood donat an oxygen concentr she wa hospitalis after she complain of breathless the actress ha been diagnos with emphysema a lung diseas that caus short of breath\n",
      "actor shoaib ibrahim took to instagram stori to share a health updat about hi father who suffer a brain stroke recent in a video messag he said after brain stroke the next 72 hour are extrem critic as one can get strokeagain howev he ad that hi father vein havent suffer much and doctor have ask them not to worri\n",
      "actress shweta tiwari exhusband actor raja chaudhari said that he want to reviv hi act career and live in mumbai so that he can be close to hi daughter palak tiwari he ad the meet with palak made me realis how hungri im for my daughter love iwant her in my life and soi decidedil now stay in mumbai\n",
      "a liveact pokemon web seri is current in the earli develop stage at the stream platform netflix varieti report while the ott platform ha not share ani detail about the plotlin of the upcom seri accord to the report lucif creator joe henderson is attach to write and execut produc the project\n",
      "bigg boss 14 contest jaan kumar sanu spoke about not be invit to rahul vaidya and disha parmar wed jaan said that he wouldnt have attend the wed even if he wa invit he ad i dont think i would have gone becaus there arenumb of thing that have gone south with us so i wish hima happi marri life\n",
      "actor adil hussain feel that bollywood should rope in an actor from the northeast whenev they plan a biopic on olymp medalist mirabai chanu unlik mari kom which star priyanka chopra jona instead of an actor from manipur if someon make a movi on mirabai chanu im sure theyd be more imagin and cast someon from the northeast he said\n",
      "actress kubbra sait who celebr her birthday on juli 27 spoke about make her intern debut with the show foundat she said it incred when you get someth base on pure merit and not entir credit it to luck when i saw myself in the teaser iwent like im here it kind of seal the deal for me she ad\n",
      "filmmak farah khan prais former indian captain ms dhoni after work with him on an advertis shoot direct dhoni for an advertis today what an amaz guy so punctual and so down to earth he took pictur with everyon from client to spot boy with a smile im a fan now she wrote on instagram alongsid her pictur with dhoni\n",
      "tara sutaria who made her bollywood debut with tiger shroffstarr student of the year 2 spoke about her equat with the actor and said i must sayamong all my costar imclosest to tiger i did my first film with him and he also the first friend i made inindustri said tara wholl reunit with tiger for ahm khan heropanti 2\n",
      "actor arya whose tamillanguag sport action film sarpatta parambarai releas earlier thi month said he want to work with actor shah rukh khan i love shah rukh khan and if given a chanc i will work with him i would also love to collabor with bollywood actor likeaamir khan and salman khan he ad\n",
      "reliance industry ha said in a statement that over 98 of it worker have received at least one dose of covid19 vaccine so far the billionaire mukesh ambaniled conglomerate had over 236 lakh employee of march 31 besides reliance hindustan unilever ha also given at least one shot to 90 of employee while infosys inoculated 59 employee and tc 70\n",
      "tesla billionaire ceo elon musk criticised apple twice during an earnings call that took place on monday in a reference to apple musk said tesla goal is to support sustainable energy not to create a walled garden used by some company to bludgeon competitor he also explained that while apple us almost 100 cobalt in battery tesla us much lesser\n",
      "tesla ceo and the world secondrichest person elon musk during his company secondquarter earnings call on monday said i will no longer default to doing earnings call he added obviously ill do the annual shareholder meeting but i think that going forward ill most likely not be on earnings call unless there something really important that i need to say\n",
      "amazon on monday denied speculation that it wa looking to accept bitcoin and other cryptocurrencies a a form of payment by the end of the year saying those speculation are not true the speculation regarding the same were fuelled by an amazon job posting seeking a digital currency and blockchain product lead bitcoin soared past 40000 briefly over the speculation\n",
      "the government is open to consider reducing import duty and offer incentive for tesla if it decides to manufacture it car in india et reported citing a government official last week ceo elon musk said tesla want to launch electric vehicle ev in india but import duty are the highest in the world by far of any large country\n",
      "inox leisure denied a report that claimed amazon india is in discussion with the cinema chain to buy a stake and said the report wa factually incorrect share of inox jumped 143 but pared some gain to last trade 6 up the indian express had reported amazon india is in talk with player in film and medium distribution including inox\n",
      "the international monetary fund imf cut it 2021 economic growth forecast for india by 300 basis point to 95 in it april review imf had pegged india economic growth for the year at 125 growth prospect in india have been downgraded following the severe second covid19 wave during marchmay and expected slow recovery in confidence from that setback imf said\n",
      "hong kongs billionaire lee man tat known a the king of oyster sauce for his role a the chairman of chinese and asian sauce maker lee kum kee group passed away at 91 on monday a statement on the wechat account of infinitus a healthproducts company led by his son confirmed lee death lee had a fortune of 176 billion\n",
      "marlboro maker philip morris international ceo jacek olczak ha said that the tobacco company will stop selling marlboro cigarette in the uk by 2030 he said the plan were part of the company drive to phase out cigarette smoking in the uk olczak said the marlboro brand will disappear from the uk ending an over 100year association with the country\n",
      "tata son chairman emeritus ratan tata said that he ha not been approached by anyone with regard to tata son chairman n chandrasekarans second term any decision regarding the succession will be taken after fair and due deliberation by the board he added this come after report claimed that chandrasekaran wa set for a second term a tata son chief\n",
      "mo for finance pankaj chaudhary on tuesday confirmed that a french court ha passed an order freezing certain indian government property in the case pertaining to cairn energy cairn is seeking to recover 17 billion from india after winning an arbitration award in a tax dispute earlier report said cairn seized 20 indian governmentowned property in france after the order\n",
      "dr reddys laboratory expects locally manufactured sputnik v covid19 vaccine to be available from septemberoctober period the firm ceo of branded market india and emerging market mv ramana said local manufacturer arein the process of technology absorption and scale up he added the vaccine arrival is getting delayed due to the spike in covid19 case in russia he said\n",
      "goldman sachs group assetmanagement arm ha filed an application with the u security and exchange commission to offer an exchangetraded fund etf focused on security of cryptocurrencyrelated company the goldman sachs innovate defi and blockchain equity etf would track the solactive decentralized finance and blockchain index sec is reviewing several other bitcoin etf application\n",
      "dumani mandela grandson of former president of south africa nelson mandela is set to auction two of his novel a nonfungible token nfts in august on opensea dumanis novel i dream of kemet and young and on the run from apartheid will be converted a nfts fund raised will be used for a mental health care app\n",
      "food delivery platform zomatos share price surged almost 5 to hit an alltime high of 1478 during intraday trade on tuesday it stock price ha nearly doubled from the initial public offering ipo price of 76 per share brokerage firm ubs security said zomatos share price is likely to rally 12 more and initiated a buy rating to the stock\n",
      "flipkart ha challenged the karnataka high court last week decision which cleared the way for the cci to probe firm like flipkart and amazon in the supreme court medium report said flipkart ha filed an appeal and the matter may be heard later this week amazon could also file a similar petition in the supreme court to challenge the probe\n",
      "online beauty and lifestyle etailer nykaa ha changed it status from a private company to a public limited company ahead of it planned ipo according to regulatory filing it shareholder on july 16 passed a special resolution to this effect filing show that nykaas holding company ha been renamed fsn ecommerce venture limited from fsn ecommerce venture private limited\n",
      "active pharmaceutical ingredient api manufacturer glenmark life science 1514crore initial public offering ipo wa fully subscribed within one hour of opening on july 27 the offer received bid for 184 crore share against the ipo size of 15 crore share the portion reserved for retail investor wa subscribed 236 time a of 12 pm on the first day of bidding\n",
      "adani port and special economic zone apsez ha raised 750 million around 5580 crore overseas through unsecured bond the company claimed that it ha become the first infrastructure company in india to successfully raise 20 year money from international marketsthe coupon rate for the 105year and 20year dualtranches bond were fixed at 38 and 5 respectively\n",
      "the number of wilful defaulter ha increased from 2208 to 2494 a of march 31 finance minister nirmala sitharaman informed the parliament according to rbi data public sector bank psbs have effected recovery of 312987 crore in nonperforming asset npa and writtenoff loan she added bank can initiate criminal proceeding against wilful defaulter wherever necessary she said\n",
      "indigoparent interglobe aviation reported a net loss of 31742 crore for the apriljune quarter a against 28443 crore in the yearago period this wa the firm sixth consecutive quarterly loss however it revenue from operation surged 292 yearonyear to 30069 crore our financial resultswere severely impacted by the second covid19 wave indigo ceo ronojoy dutta said\n",
      "esaf small finance bank ha filed a draft red herring prospectus drhp with the security and exchange board of india sebi to raise 998 crore via it initial public offering ipo the ipo comprises a fresh issue of share worth 800 crore and offer for sale totalling 1977 crore upon successful listing esaf will join industrylisted peer like bandhan bank\n",
      "india can potentially save 8940 crore 12 billion a year by shutting down some old coalburning power plant and allowing newer one to run for longer hour a study said india should accelerate decommissioning 30 gw of inefficient coalfired capacity and set aside 20 gw of plant a reserve the study by council on energy environment and water ceew added\n",
      "share of dlf on tuesday rose by a much a 314 to 34450 it 52week high level on the bse this come after the company reported a consolidated net profit of 33717 crore in the april to june quarter of this fiscal year the company had posted a net loss of 7152 crore during the same period last year\n",
      "dr reddys laboratory limited share fell by over 10 to 483645 apiece on bse during intraday trade after the pharmaceutical major declared it first quarter earnings on tuesday dr reddys and it subsidiary reported a consolidated profit of 5708 crore in the apriljune quarter a against 5793 crore in the yearago period dr reddys profit after tax pat dropped 36\n",
      "jeff bezos amazon founder and world richest person with 204billion wealth successfully travelled to space in his company blue origin first human flight the 57yearold travelled in new shepard rocket with his brother mark bezos 82yearold aviator wally funk and 18yearold paying tourist oliver daemen the flight broke the record for the youngest person and the oldest person in space\n",
      "america 82yearold wally funk who flew to space with the world richest person jeff bezos on blue origin first human flight on tuesday ha become the oldest person to travel to space she took a postcard bearing her picture to space before her space flight today america john glenn wa the oldest to fly to space at 77\n",
      "world richest man jeff bezos may not be considered an astronaut based on the new rule issued by u federal aviation administration on july 20 the same day of his space flight one of the requirement state that astronaut hopeful must also demonstrate activity during flight that were essential to public safety or contributed to human space flight safety\n",
      "an eighteenyearold from the netherlands oliver daemen will become the youngest person to travel to space aboard blue origin spacecraft on july 20 daemen wholl accompany the world richest person jeff bezos to space is the son of dutch millionaire joes daemen he ha a private pilot licence and will study physic and innovative management at the university of utrecht\n",
      "amazon founder and world richest person jeff bezos ha landed after having travelled successfully to space in blue origin first human flight bezos voyage to space lasted about 10 minute and 20 second the flight coincides with the anniversary of astronaut neil armstrong and edwin aldrin becoming the first human to walk on moon\n",
      "scientist have found nearly 15000yearsold virus in ice sample taken from the tibetan plateau in china according to a study published in the journal microbiome most of these virus arent known to human a they might be active on the glacier surface before being frozen thousand of year ago the finding may help understand how virus have evolved over century\n",
      "a new specie of catshark apristurus manocheriani ha recently been discovered in southwest indian ocean by researcher from the pacific shark research center in the u an average male and female of the specie can measure about 55cm and 49cm respectively it ha numerous large teeth in the upper and lower jaw\n",
      "scientist at the university of notre dame in a study have listed india and china among the world top five country most vulnerable to climate change and air pollution the study which explores the combined risk of the two aspect state that the two country have witnessed high risk due to climate changeinduced extreme rainfall frequent cyclone and heatwaves\n",
      "a lagoon situated in the southern patagonia region of argentina ha turned into bright pink in colour a per the local activist and environmentalist the reason behind the water being coloured this way is the pollution caused by sodium sulfite used to preserve the prawn there sodium sulfite is an antibacterial product used in fish factory\n",
      "a 1972 study by massachusetts institute of technology mit which said that the human society is on the verge of collapsing in the next two decade may become a reality new research ha said the research say the current businessasusual trajectory of civilisation is heading towards a terminal decline of economic growth and could trigger societal collapse by around 2040\n",
      "nasa took to instagram to share a picture of jupiter unusual xray aurora it said jupiter ha the most powerful aurora in the solar system and is the only one of the four giant planet with an aurora that ha been found to emit xrays they are caused by ion surfing electromagnetic wave in jupiter magnetic field nasa said\n",
      "a 12yearold boy with a bright yellow tongue wa diagnosed with cold agglutinin disease in canada the rare autoimmune disorder led to his immune system attacking and destroying it own red blood cell doctor suspect the boy contracted the disease due to an infection from epsteinbarr virus the boy needed a blood transfusion and also received treatment with oral steroid\n",
      "an asteroid named 2008 go20 sized about 220 metre in diameter will pas by earth on july 24 according to nasa it moving at a speed of around 29500 kmhr though the asteroid will be very close to earth it will still be 004 au astronomical unit or 5983915 km away from earth according to nasa calculation\n",
      "blue origin founder jeff bezos is offering to waive nasa payment of up to 2 billion in exchange for a lunar lander contract in a letter to nasa administrator bill nelson bezos said he grateful to be in a financial position to be able to do so further blue origin will selffund a pathfinder mission to lowearth orbit he said\n",
      "researcher in u used a helmet that generates a magnetic field to shrink a deadly tumour in a 53yearold man brain the patient ultimately died from an unrelated injury but an autopsy of his brain confirmed rapid response to the treatment the test marked world first noninvasive therapy for the deadliest of brain cancer known a glioblastoma the researcher said\n",
      "uc riverside researcher have developed pneumatic computer memory that they used to help a soft robot play a song on a piano they produced an 8bit pneumatic ram chip and incorporated it into a pair of 3dprinted rubber hand the ram us atmosphericpressure air to represent a 0 or false value and vacuum to represent a 1 or true value\n",
      "virgin group billionaire founder richard branson ha congratulated the world richest person jeff bezos after he successfully completed his first spaceflight well done blue origin jeff bezos mark wally and oliver impressive very best to all the crew from me and all the team at virgin galactic branson tweeted branson had travelled to space on july 11\n",
      "spacex ha been selected by nasa to provide service for earth first mission to conduct detailed investigation of jupiter moon europa nasa announced the europa clipper mission will investigate whether the icy moon ha condition suitable for life the total contract award amount for launch service is approximately 178 million\n",
      "billionaire richard bransons virgin galactic ha wished the entire team of jeff bezos blue origin a successful and safe flight ahead of bezos spaceflight today commenting on a video posted by bezos regarding his crew training branson wrote best wish to jeff bezos and the blue origin crew from all of u at virgin galactic\n",
      "world richest man jeff bezosowned blue origin ha announced that it will be flying two more passenger spaceflight mission this year unlike the flight that carried bezos to space on july 20 future spaceflight will have six passenger the firm said jeff bezos flew to space with his brother mark bezos 82yearold wally funk and 18yearold oliver daemen\n",
      "a harvard universityled team ha launched the galileo project that will seek and investigate evidence that could represent defunct or stillactive extraterrestrial technological civilization using astronomical survey data and telescope observation new algorithm using ai will be made to identify potential interstellar traveller alienbuilt satellite and unidentified aerial phenomenon\n",
      "astronomer have uncovered evidence of water vapour in the atmosphere of jupiter moon ganymede for the first time nasa said researcher looked through the last two decade of data from the hubble space telescope previous study have shown that ganymede may have more water than earth but a it is extremely cold the water on the surface may be frozen\n",
      "an unusually large meteor briefly illuminated the night sky over southern norway on july 25 part of which are expected to have landed near oslo it travelled at 1520 kilometressecond and lit up the sky for about fivesix second a norwegian meteor network official said it wa accompanied by a loud rumbling sound that wa heard over a large area\n",
      "the tollund man a mummified corpse that wa found in denmark in 1950 had barley porridge a his last meal 2400 year ago researcher including those from aarhus university found the porridge also contained flax and seed and a small amount of fish researcher also suggested that the tollund man might have been the victim of a human sacrifice ritual\n",
      "a 150millionyearold fossilised skeleton discovered in chile in 2014 belongs to the ancestor of the modern crocodile the specie ha been named burkesuchus mallingrandensis about 200 million year ago crocodile were smaller and did not live in water and the fossil will help understand how these reptile went from being terrestrial to aquatic a researcher said\n",
      "londonbased brand nothing launched true wireless bud ear 1 today promising iconic transparent design and premium user experience it delivers pure sound with stateoftheart active noise cancellation playtime up to 34 hour and 116mm driver nothing said it marries advanced technology precise engineering and groundbreaking design at unbelievable price ceo carl pei said\n",
      "oneplus ha announced various deal on their entire product ecosystem a part of a weeklong sale comprising of the wishlist sale on oneplusin and prime day 2021 on amazonin offer will include up to 4000 discount and 7000 exchange offer on oneplus 9 series 1000 discount on nord 2 5g and up to 2000 discount on oneplus tv u1s\n",
      "toyota cue robot shot perfect free throw during halftime of the united state men basketball loss to france at the tokyo olympics while the 6foot10inch robot can make perfect throw it cant dribble or jump the basketball robot cue3 version hold the guinness world record for the most consecutive basketball free throw by a humanoid robot assisted with 2020 throw\n",
      "amazon on monday denied speculation that it wa looking to accept bitcoin and other cryptocurrencies a a form of payment by the end of the year saying those speculation are not true the speculation regarding the same were fuelled by an amazon job posting seeking a digital currency and blockchain product lead bitcoin soared past 40000 briefly over the speculation\n",
      "facebook messenger and facebookowned instagram on tuesday announced the platform will now only allow advertiser to target ad to people under 18 or older in certain country based on their age gender and location until now ad targeting to this age group wa allowed on the basis of their interest or their activity on other apps and website\n",
      "ola ceo bhavish aggarwal said he strongly disagrees with tesla and hyundais call for lower duty in india on imported electric vehicle ev let have confidence in our ability to build indigenously aggarwal tweeted he wa responding to a tweet saying hyundai motor india md s kim ha backed tesla call and said lower duty will help grow ev market\n",
      "the hindu former editor n ram and asianet founder sashi kumar have asked the supreme court to order the centre to reveal whether it used pegasus spyware directly or indirectly to carry out surveillance they also filed a petition seeking a courtordered investigation into the report of surveillance earlier report said over 40 indian journalist were among potential pegasus target\n",
      "tesla ceo and the world secondrichest person elon musk during his company secondquarter earnings call on monday said i will no longer default to doing earnings call he added obviously ill do the annual shareholder meeting but i think that going forward ill most likely not be on earnings call unless there something really important that i need to say\n",
      "congress mp shashi tharoor said the parliamentary panel on information technology will question government official on allegation that indian politician journalist were targeted using pegasus spyware he asserted that it is the most important issue for many member of the committee parliament is not functioning because of this issue people are anxious to find out about this he added\n",
      "tesla billionaire ceo elon musk criticised apple twice during an earnings call that took place on monday in a reference to apple musk said tesla goal is to support sustainable energy not to create a walled garden used by some company to bludgeon competitor he also explained that while apple us almost 100 cobalt in battery tesla us much lesser\n",
      "researcher in u used a helmet that generates a magnetic field to shrink a deadly tumour in a 53yearold man brain the patient ultimately died from an unrelated injury but an autopsy of his brain confirmed rapid response to the treatment the test marked world first noninvasive therapy for the deadliest of brain cancer known a glioblastoma the researcher said\n",
      "a canadian animal health technology company ha developed an app that can tell whether a cat is feeling pain by using a smartphones camera the app known a tably look at a cat ear and head position eyenarrowing muzzle tension and how whisker change to detect distress the app wa trained using machine learning and a series of image\n",
      "indiana department of transport is testing a new type of cement with embedded magnetised particle that can wirelessly charge electric vehicle a they drive the cement will be tested in a lab in first two phase and then a quartermilelong road for testing will be constructed after finishing the test a segment of interstate highway within indiana will be electrified\n",
      "the u justice department is probing whether executive behind the cryptocurrency stablecoin tether committed bank fraud during the nascent stage of it business bloomberg reported prosecutor are examining whether tether concealed from bank that transaction were linked to cryptocurrency tether said it routinely ha an open dialogue with law enforcement agency for transparency\n",
      "nearly a thousand employee have condemned activision blizzard response to a lawsuit against it over sexual harassment and discrimination and called it abhorrent and insulting medium report said to claim this is a truly meritless and irresponsible lawsuit while seeing so manyemployees speak out about theirexperiencesis simply unacceptable a letter from staff reportedly read\n",
      "dumani mandela grandson of former president of south africa nelson mandela is set to auction two of his novel a nonfungible token nfts in august on opensea dumanis novel i dream of kemet and young and on the run from apartheid will be converted a nfts fund raised will be used for a mental health care app\n",
      "pune municipal corporation general body cojointly gave a goahead to the ebike renting project along with setting up of 2000 ev charging point and 3000 ev battery swapping point at 500 location across pune city the venture ha been approved under the green pune initiative wherein vtro motor will be taking charge of all the cost incurred for this project\n",
      "china industry ministry ha launched a sixmonth campaign to clean up the tough problem with internet apps including disturbing market order infringing user right threatening data security and unauthorised internet connection the campaign will target 22 specific scenario including apps that do not allow user to opt out of personalisation or use popups to mislead or deceive user\n",
      "tencentowned wechat ha temporarily suspended new user registration in mainland china a it undergoes a technical upgrade to align with relevant law and regulation registration service will be restored after the upgrade is complete which is expected in early august it said wechat ha reportedly amassed over 12 billion monthly active user in china a of earlier this year\n",
      "goldman sachs group assetmanagement arm ha filed an application with the u security and exchange commission to offer an exchangetraded fund etf focused on security of cryptocurrencyrelated company the goldman sachs innovate defi and blockchain equity etf would track the solactive decentralized finance and blockchain index sec is reviewing several other bitcoin etf application\n",
      "russian internet regulator roskomnadzor ha blocked 49 website linked to president vladimir putin jailed critic alexey navalny including his personal website roskomnadzor said it blocked the website at the request of the prosecutor general it also said the website were being used for propaganda of extremist group\n",
      "a u judge ha ordered a man accused of participating in the u capitol riot on january 6 to unlock his laptop this come after prosecutor argued that the laptop likely contained footage of the attack the judge granted them permission to place guy reffitt in front of his laptop so they could use facial recognition to unlock the device\n",
      "linkedin ha been blocked in kazakhstan over fake account and online casino advertisement the country ministry of information and social development said on tuesday according to the ministry linkedin wa asked to remove the item in question but it ha failed to comply access will be restored to the social networking platform once it address those complaint the ministry said\n",
      "bengaluru ha been ranked eighth in the top 10 city seen a leading technology innovation hub over the next four year outside of silicon valley in u san francisco according to a report by professional service firm kpmg according to the report titled technology innovation hub covid19 ha accelerated new way of working but the hub are here to stay\n",
      "a trader from gujarat ha filed a complaint with mumbai crime branch and cyber police alleging he ha been cheated of 3 lakh by businessman raj kundras firm the trader said kundras firm cheated him on the pretext of making him distributor for an online cricket skillbased game he also alleged that many people were cheated of crore like him\n",
      "modelactor milind soman wife ankita konwar took to social medium and talked about racism in india ankita who hail from assam wrote in an instagram post if youre from northeast india you can become an indian only when you win a medal for the country otherwise we are known a chy chinese nepali or a new addition corona she added\n",
      "a mumbai crime branch official ha said that actress shilpa shetty hasnt been given a clean chit yet in the porn video case in which her husband raj kundra ha been arrested all possibility and angle are being probed forensic auditor are appointed and they are looking into the transaction of all account in this case the official added\n",
      "flora saini who played the titular character in stree commented on her name appearing in purported whatsapp chat between raj kundra and his aide ive never interacted with kundraif two people discus my namethat doesnt mean iminvolved with what wa being discussed she told etimes in the chat they discussed if they could rope in flora for a song\n",
      "james gunns the suicide squad starring margot robbie and john cena is all set to hit indian theatre on august 5 warner bros india ha announced in addition to robbie and cena itll also feature idris elba and joel kinnaman warner bros india also announced the release date of mortal kombat and the conjuring the devil made me do it\n",
      "shefali shah while speaking about her international emmy awardwinning series delhi crime said it changed everything for me with delhi crime they filmmaker realised they can put an entire show or a film on my shoulder or i can be the parallel lead shefali said adding they got the confidence that im not just somebody who need to be inbackground\n",
      "in his latest instagram post arjun kapoor shared the before and after picture of his body transformation and called himself a work in progress he wrote i love every chapter of my lifei have always been myself at every step of the wayim a work in progressmy mother told me every stage of your life is a journey\n",
      "south indian actress parul yadav spoke about the time when she got infected with covid19 she said my covid19 wa really bad a i had all the symptomsand i had 103 fever for 12 day i remember writing an email which i sent to my dear onessaying if i die my property should be divided between my sister she added\n",
      "taking to his instagram story singer aditya narayan denied the report of him participating in bigg bos 15 aditya said he doesnt have the time nor the inclination to participate he wrote contrary to speculation im not going to be a contestant on the upcoming season of bigg bossalways happy to guest feature would even love to host it someday\n",
      "filmmaker ali abbas zafar while speaking about his journey in the film industry said the journey ha been full of learning and experience aditya chopra sir and salman khan have been two pillar of my career they have been very helpful he added ali worked with salman in sultan and tiger zinda hai both the film were produced by aditya\n",
      "filmmaker aditya vikram senguptas once upon a time in calcutta will premiere at the 78th venice international film festival the film will be screened in the orizzonti horizon section venice is a dream festival for any filmmaker and were extremely gratefulto be back with a bengali film about the city especially on birth centenary of satyajit ray sengupta said\n",
      "reacting to rumour about a tiff between the cast of the show taarak mehta ka ooltah chashmah actor dilip joshi said we are a great team which is why the show is doing so well just because someone want to write something to grab eyeball on social medium they cook up a story he added\n",
      "marathi actor umesh kamat ha issued a statement saying that he ha decided to take legal action against some medium platform and news channel for falsely associating him with raj kundra porn video case he said this irresponsible action ha caused tremendous humiliationand agony to him and his family earlier mumbai police had arrested kundras former employee umesh kamat\n",
      "actor atul kulkarni will share screen space with actor ajay devgn in the upcoming series titled rudra the edge of darkness reportedly the series is set to be shot across mumbai and will also star esha deol it a gripping series that willdisrupt the genre of cop drama in indiai cant wait to begin filming this one atul said\n",
      "television actress shweta tiwari ha been roped in to play a cbi officer in the upcoming suspensethriller show named shukla v tripathi i play a nononsense cbi officer ridhima lakha who cannot be swayed or bribed a we begin this journey i just wish for love and support from my fan shweta said about the new project\n",
      "veteran actress savita bajaj who is unwell and is facing a financial crisis received monetary help from actor ayushmann khurrana and jackie shroff meanwhile actor sonu sood donated an oxygen concentrator she wa hospitalised after she complained of breathlessness the actress ha been diagnosed with emphysema a lung disease that cause shortness of breath\n",
      "actor shoaib ibrahim took to instagram story to share a health update about his father who suffered a brain stroke recently in a video message he said after brain stroke the next 72 hour are extremely critical a one can get strokeagain however he added that his father vein havent suffered much and doctor have asked them not to worry\n",
      "actress shweta tiwaris exhusband actor raja chaudhary said that he want to revive his acting career and live in mumbai so that he can be close to his daughter palak tiwari he added the meeting with palak made me realise how hungry im for my daughter love iwant her in my life and soi decidedill now stay in mumbai\n",
      "a liveaction pokemon web series is currently in the early development stage at the streaming platform netflix variety reported while the ott platform ha not shared any detail about the plotline of the upcoming series according to the report lucifer creator joe henderson is attached to write and executive produce the project\n",
      "bigg bos 14 contestant jaan kumar sanu spoke about not being invited to rahul vaidya and disha parmars wedding jaan said that he wouldnt have attended the wedding even if he wa invited he added i dont think i would have gone because there arenumber of thing that have gone south with u so i wish hima happy married life\n",
      "actor adil hussain feel that bollywood should rope in an actor from the northeast whenever they plan a biopic on olympic medalist mirabai chanu unlike mary kom which starred priyanka chopra jonas instead of an actor from manipur if someone make a movie on mirabai chanu im sure theyd be more imaginative and cast someone from the northeast he said\n",
      "actress kubbra sait who celebrates her birthday on july 27 spoke about making her international debut with the show foundation she said it incredible when you get something based on pure merit and not entirely crediting it to luck when i saw myself in the teaser iwent like im here it kind of sealed the deal for me she added\n",
      "filmmaker farah khan praised former indian captain m dhoni after working with him on an advertisement shoot directed dhoni for an advertisement today what an amazing guy so punctual and so down to earth he took picture with everyone from client to spot boy with a smile im a fan now she wrote on instagram alongside her picture with dhoni\n",
      "tara sutaria who made her bollywood debut with tiger shroffstarrer student of the year 2 spoke about her equation with the actor and said i must sayamong all my costars imclosest to tiger i did my first film with him and he also the first friend i made inindustry said tara wholl reunite with tiger for ahmed khan heropanti 2\n",
      "actor arya whose tamillanguage sport action film sarpatta parambarai released earlier this month said he want to work with actor shah rukh khan i love shah rukh khan and if given a chance i will work with him i would also love to collaborate with bollywood actor likeaamir khan and salman khan he added\n"
     ]
    },
    {
     "data": {
      "text/html": [
       "<div>\n",
       "<style scoped>\n",
       "    .dataframe tbody tr th:only-of-type {\n",
       "        vertical-align: middle;\n",
       "    }\n",
       "\n",
       "    .dataframe tbody tr th {\n",
       "        vertical-align: top;\n",
       "    }\n",
       "\n",
       "    .dataframe thead th {\n",
       "        text-align: right;\n",
       "    }\n",
       "</style>\n",
       "<table border=\"1\" class=\"dataframe\">\n",
       "  <thead>\n",
       "    <tr style=\"text-align: right;\">\n",
       "      <th></th>\n",
       "      <th>title</th>\n",
       "      <th>content</th>\n",
       "      <th>clean</th>\n",
       "      <th>stemmed</th>\n",
       "      <th>lemmatized</th>\n",
       "    </tr>\n",
       "  </thead>\n",
       "  <tbody>\n",
       "    <tr>\n",
       "      <th>0</th>\n",
       "      <td>Reliance Industries vaccinates 98% of workers,...</td>\n",
       "      <td>Reliance Industries has said in a statement th...</td>\n",
       "      <td>reliance industries said statement 98 workers ...</td>\n",
       "      <td>relianc industri ha said statement 98 worker r...</td>\n",
       "      <td>reliance industry ha said statement 98 worker ...</td>\n",
       "    </tr>\n",
       "    <tr>\n",
       "      <th>1</th>\n",
       "      <td>Musk criticises Apple's 'walled garden', cobal...</td>\n",
       "      <td>Tesla's billionaire CEO Elon Musk criticised A...</td>\n",
       "      <td>teslas billionaire ceo elon musk criticised ap...</td>\n",
       "      <td>tesla billionair ceo elon musk criticis appl t...</td>\n",
       "      <td>tesla billionaire ceo elon musk criticised app...</td>\n",
       "    </tr>\n",
       "    <tr>\n",
       "      <th>2</th>\n",
       "      <td>I will most likely not be on future earnings c...</td>\n",
       "      <td>Tesla CEO and the world's second-richest perso...</td>\n",
       "      <td>tesla ceo worlds secondrichest person elon mus...</td>\n",
       "      <td>tesla ceo world secondrichest person elon musk...</td>\n",
       "      <td>tesla ceo world secondrichest person elon musk...</td>\n",
       "    </tr>\n",
       "    <tr>\n",
       "      <th>3</th>\n",
       "      <td>Speculation around our plans for crypto not tr...</td>\n",
       "      <td>Amazon on Monday denied speculations that it w...</td>\n",
       "      <td>amazon monday denied speculations looking acce...</td>\n",
       "      <td>amazon monday deni specul wa look accept bitco...</td>\n",
       "      <td>amazon monday denied speculation wa looking ac...</td>\n",
       "    </tr>\n",
       "    <tr>\n",
       "      <th>4</th>\n",
       "      <td>Govt may lower import duty on EVs if Tesla man...</td>\n",
       "      <td>The government is open to consider reducing im...</td>\n",
       "      <td>government open consider reducing import duty ...</td>\n",
       "      <td>govern open consid reduc import duti offer inc...</td>\n",
       "      <td>government open consider reducing import duty ...</td>\n",
       "    </tr>\n",
       "    <tr>\n",
       "      <th>...</th>\n",
       "      <td>...</td>\n",
       "      <td>...</td>\n",
       "      <td>...</td>\n",
       "      <td>...</td>\n",
       "      <td>...</td>\n",
       "    </tr>\n",
       "    <tr>\n",
       "      <th>94</th>\n",
       "      <td>A Northeast actor should be cast if biopic is ...</td>\n",
       "      <td>Actor Adil Hussain feels that Bollywood should...</td>\n",
       "      <td>actor adil hussain feels bollywood rope actor ...</td>\n",
       "      <td>actor adil hussain feel bollywood rope actor n...</td>\n",
       "      <td>actor adil hussain feel bollywood rope actor n...</td>\n",
       "    </tr>\n",
       "    <tr>\n",
       "      <th>95</th>\n",
       "      <td>Got it purely on merit, it's incredible: Kubbr...</td>\n",
       "      <td>Actress Kubbra Sait, who celebrates her birthd...</td>\n",
       "      <td>actress kubbra sait celebrates birthday july 2...</td>\n",
       "      <td>actress kubbra sait celebr birthday juli 27 sp...</td>\n",
       "      <td>actress kubbra sait celebrates birthday july 2...</td>\n",
       "    </tr>\n",
       "    <tr>\n",
       "      <th>96</th>\n",
       "      <td>MS Dhoni is so down to earth, I'm a fan now: F...</td>\n",
       "      <td>Filmmaker Farah Khan praised former Indian cap...</td>\n",
       "      <td>filmmaker farah khan praised former indian cap...</td>\n",
       "      <td>filmmak farah khan prais former indian captain...</td>\n",
       "      <td>filmmaker farah khan praised former indian cap...</td>\n",
       "    </tr>\n",
       "    <tr>\n",
       "      <th>97</th>\n",
       "      <td>Among all my co-stars, I am closest to Tiger S...</td>\n",
       "      <td>Tara Sutaria, who made her Bollywood debut wit...</td>\n",
       "      <td>tara sutaria made bollywood debut tiger shroff...</td>\n",
       "      <td>tara sutaria made bollywood debut tiger shroff...</td>\n",
       "      <td>tara sutaria made bollywood debut tiger shroff...</td>\n",
       "    </tr>\n",
       "    <tr>\n",
       "      <th>98</th>\n",
       "      <td>I love Shah Rukh Khan, would love to work with...</td>\n",
       "      <td>Actor Arya, whose Tamil-language sports action...</td>\n",
       "      <td>actor arya whose tamillanguage sports action f...</td>\n",
       "      <td>actor arya whose tamillanguag sport action fil...</td>\n",
       "      <td>actor arya whose tamillanguage sport action fi...</td>\n",
       "    </tr>\n",
       "  </tbody>\n",
       "</table>\n",
       "<p>99 rows × 5 columns</p>\n",
       "</div>"
      ],
      "text/plain": [
       "                                                title  \\\n",
       "0   Reliance Industries vaccinates 98% of workers,...   \n",
       "1   Musk criticises Apple's 'walled garden', cobal...   \n",
       "2   I will most likely not be on future earnings c...   \n",
       "3   Speculation around our plans for crypto not tr...   \n",
       "4   Govt may lower import duty on EVs if Tesla man...   \n",
       "..                                                ...   \n",
       "94  A Northeast actor should be cast if biopic is ...   \n",
       "95  Got it purely on merit, it's incredible: Kubbr...   \n",
       "96  MS Dhoni is so down to earth, I'm a fan now: F...   \n",
       "97  Among all my co-stars, I am closest to Tiger S...   \n",
       "98  I love Shah Rukh Khan, would love to work with...   \n",
       "\n",
       "                                              content  \\\n",
       "0   Reliance Industries has said in a statement th...   \n",
       "1   Tesla's billionaire CEO Elon Musk criticised A...   \n",
       "2   Tesla CEO and the world's second-richest perso...   \n",
       "3   Amazon on Monday denied speculations that it w...   \n",
       "4   The government is open to consider reducing im...   \n",
       "..                                                ...   \n",
       "94  Actor Adil Hussain feels that Bollywood should...   \n",
       "95  Actress Kubbra Sait, who celebrates her birthd...   \n",
       "96  Filmmaker Farah Khan praised former Indian cap...   \n",
       "97  Tara Sutaria, who made her Bollywood debut wit...   \n",
       "98  Actor Arya, whose Tamil-language sports action...   \n",
       "\n",
       "                                                clean  \\\n",
       "0   reliance industries said statement 98 workers ...   \n",
       "1   teslas billionaire ceo elon musk criticised ap...   \n",
       "2   tesla ceo worlds secondrichest person elon mus...   \n",
       "3   amazon monday denied speculations looking acce...   \n",
       "4   government open consider reducing import duty ...   \n",
       "..                                                ...   \n",
       "94  actor adil hussain feels bollywood rope actor ...   \n",
       "95  actress kubbra sait celebrates birthday july 2...   \n",
       "96  filmmaker farah khan praised former indian cap...   \n",
       "97  tara sutaria made bollywood debut tiger shroff...   \n",
       "98  actor arya whose tamillanguage sports action f...   \n",
       "\n",
       "                                              stemmed  \\\n",
       "0   relianc industri ha said statement 98 worker r...   \n",
       "1   tesla billionair ceo elon musk criticis appl t...   \n",
       "2   tesla ceo world secondrichest person elon musk...   \n",
       "3   amazon monday deni specul wa look accept bitco...   \n",
       "4   govern open consid reduc import duti offer inc...   \n",
       "..                                                ...   \n",
       "94  actor adil hussain feel bollywood rope actor n...   \n",
       "95  actress kubbra sait celebr birthday juli 27 sp...   \n",
       "96  filmmak farah khan prais former indian captain...   \n",
       "97  tara sutaria made bollywood debut tiger shroff...   \n",
       "98  actor arya whose tamillanguag sport action fil...   \n",
       "\n",
       "                                           lemmatized  \n",
       "0   reliance industry ha said statement 98 worker ...  \n",
       "1   tesla billionaire ceo elon musk criticised app...  \n",
       "2   tesla ceo world secondrichest person elon musk...  \n",
       "3   amazon monday denied speculation wa looking ac...  \n",
       "4   government open consider reducing import duty ...  \n",
       "..                                                ...  \n",
       "94  actor adil hussain feel bollywood rope actor n...  \n",
       "95  actress kubbra sait celebrates birthday july 2...  \n",
       "96  filmmaker farah khan praised former indian cap...  \n",
       "97  tara sutaria made bollywood debut tiger shroff...  \n",
       "98  actor arya whose tamillanguage sport action fi...  \n",
       "\n",
       "[99 rows x 5 columns]"
      ]
     },
     "execution_count": 65,
     "metadata": {},
     "output_type": "execute_result"
    }
   ],
   "source": [
    "prep_article_data(news_df, 'content')"
   ]
  },
  {
   "cell_type": "code",
   "execution_count": null,
   "metadata": {},
   "outputs": [],
   "source": []
  }
 ],
 "metadata": {
  "kernelspec": {
   "display_name": "Python 3",
   "language": "python",
   "name": "python3"
  },
  "language_info": {
   "codemirror_mode": {
    "name": "ipython",
    "version": 3
   },
   "file_extension": ".py",
   "mimetype": "text/x-python",
   "name": "python",
   "nbconvert_exporter": "python",
   "pygments_lexer": "ipython3",
   "version": "3.8.5"
  }
 },
 "nbformat": 4,
 "nbformat_minor": 4
}
